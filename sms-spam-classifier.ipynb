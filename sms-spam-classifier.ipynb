{
 "cells": [
  {
   "cell_type": "code",
   "execution_count": 89,
   "metadata": {},
   "outputs": [],
   "source": [
    "# This Python 3 environment comes with many helpful analytics libraries installed\n",
    "# It is defined by the kaggle/python Docker image: https://github.com/kaggle/docker-python\n",
    "# For example, here's several helpful packages to load\n",
    "\n",
    "import numpy as np # linear algebra\n",
    "import pandas as pd # data processing, CSV file I/O (e.g. pd.read_csv)\n",
    "\n",
    "# Input data files are available in the read-only \"../input/\" directory\n",
    "# For example, running this (by clicking run or pressing Shift+Enter) will list all files under the input directory\n",
    "\n",
    "import os\n",
    "for dirname, _, filenames in os.walk('/kaggle/input'):\n",
    "    for filename in filenames:\n",
    "        print(os.path.join(dirname, filename))\n",
    "\n",
    "# You can write up to 20GB to the current directory (/kaggle/working/) that gets preserved as output when you create a version using \"Save & Run All\" \n",
    "# You can also write temporary files to /kaggle/temp/, but they won't be saved outside of the current session"
   ]
  },
  {
   "cell_type": "code",
   "execution_count": 2,
   "metadata": {
    "execution": {
     "iopub.execute_input": "2022-03-27T04:28:35.989815Z",
     "iopub.status.busy": "2022-03-27T04:28:35.986567Z",
     "iopub.status.idle": "2022-03-27T04:28:35.993383Z",
     "shell.execute_reply": "2022-03-27T04:28:35.992593Z",
     "shell.execute_reply.started": "2022-03-27T04:28:35.989788Z"
    }
   },
   "outputs": [],
   "source": [
    "import numpy as np\n",
    "import pandas as pd\n",
    "import warnings\n",
    "warnings.filterwarnings('ignore')"
   ]
  },
  {
   "cell_type": "code",
   "execution_count": 3,
   "metadata": {
    "execution": {
     "iopub.execute_input": "2022-03-27T04:28:35.995441Z",
     "iopub.status.busy": "2022-03-27T04:28:35.994706Z",
     "iopub.status.idle": "2022-03-27T04:28:36.037666Z",
     "shell.execute_reply": "2022-03-27T04:28:36.036939Z",
     "shell.execute_reply.started": "2022-03-27T04:28:35.995407Z"
    }
   },
   "outputs": [
    {
     "data": {
      "text/html": [
       "<div>\n",
       "<style scoped>\n",
       "    .dataframe tbody tr th:only-of-type {\n",
       "        vertical-align: middle;\n",
       "    }\n",
       "\n",
       "    .dataframe tbody tr th {\n",
       "        vertical-align: top;\n",
       "    }\n",
       "\n",
       "    .dataframe thead th {\n",
       "        text-align: right;\n",
       "    }\n",
       "</style>\n",
       "<table border=\"1\" class=\"dataframe\">\n",
       "  <thead>\n",
       "    <tr style=\"text-align: right;\">\n",
       "      <th></th>\n",
       "      <th>v1</th>\n",
       "      <th>v2</th>\n",
       "      <th>Unnamed: 2</th>\n",
       "      <th>Unnamed: 3</th>\n",
       "      <th>Unnamed: 4</th>\n",
       "    </tr>\n",
       "  </thead>\n",
       "  <tbody>\n",
       "    <tr>\n",
       "      <th>0</th>\n",
       "      <td>ham</td>\n",
       "      <td>Go until jurong point, crazy.. Available only ...</td>\n",
       "      <td>NaN</td>\n",
       "      <td>NaN</td>\n",
       "      <td>NaN</td>\n",
       "    </tr>\n",
       "    <tr>\n",
       "      <th>1</th>\n",
       "      <td>ham</td>\n",
       "      <td>Ok lar... Joking wif u oni...</td>\n",
       "      <td>NaN</td>\n",
       "      <td>NaN</td>\n",
       "      <td>NaN</td>\n",
       "    </tr>\n",
       "    <tr>\n",
       "      <th>2</th>\n",
       "      <td>spam</td>\n",
       "      <td>Free entry in 2 a wkly comp to win FA Cup fina...</td>\n",
       "      <td>NaN</td>\n",
       "      <td>NaN</td>\n",
       "      <td>NaN</td>\n",
       "    </tr>\n",
       "    <tr>\n",
       "      <th>3</th>\n",
       "      <td>ham</td>\n",
       "      <td>U dun say so early hor... U c already then say...</td>\n",
       "      <td>NaN</td>\n",
       "      <td>NaN</td>\n",
       "      <td>NaN</td>\n",
       "    </tr>\n",
       "    <tr>\n",
       "      <th>4</th>\n",
       "      <td>ham</td>\n",
       "      <td>Nah I don't think he goes to usf, he lives aro...</td>\n",
       "      <td>NaN</td>\n",
       "      <td>NaN</td>\n",
       "      <td>NaN</td>\n",
       "    </tr>\n",
       "  </tbody>\n",
       "</table>\n",
       "</div>"
      ],
      "text/plain": [
       "     v1                                                 v2 Unnamed: 2  \\\n",
       "0   ham  Go until jurong point, crazy.. Available only ...        NaN   \n",
       "1   ham                      Ok lar... Joking wif u oni...        NaN   \n",
       "2  spam  Free entry in 2 a wkly comp to win FA Cup fina...        NaN   \n",
       "3   ham  U dun say so early hor... U c already then say...        NaN   \n",
       "4   ham  Nah I don't think he goes to usf, he lives aro...        NaN   \n",
       "\n",
       "  Unnamed: 3 Unnamed: 4  \n",
       "0        NaN        NaN  \n",
       "1        NaN        NaN  \n",
       "2        NaN        NaN  \n",
       "3        NaN        NaN  \n",
       "4        NaN        NaN  "
      ]
     },
     "execution_count": 3,
     "metadata": {},
     "output_type": "execute_result"
    }
   ],
   "source": [
    "df = pd.read_csv('/home/saad/Downloads/spam.csv', encoding='latin-1')\n",
    "df.head()"
   ]
  },
  {
   "cell_type": "code",
   "execution_count": 4,
   "metadata": {
    "execution": {
     "iopub.execute_input": "2022-03-27T04:28:36.040402Z",
     "iopub.status.busy": "2022-03-27T04:28:36.040216Z",
     "iopub.status.idle": "2022-03-27T04:28:36.04813Z",
     "shell.execute_reply": "2022-03-27T04:28:36.047433Z",
     "shell.execute_reply.started": "2022-03-27T04:28:36.040378Z"
    }
   },
   "outputs": [
    {
     "data": {
      "text/plain": [
       "(5572, 5)"
      ]
     },
     "execution_count": 4,
     "metadata": {},
     "output_type": "execute_result"
    }
   ],
   "source": [
    "df.shape"
   ]
  },
  {
   "cell_type": "markdown",
   "metadata": {},
   "source": [
    "## Steps\n",
    "* 1.Data Cleaning\n",
    "* 2.EDA\n",
    "* 3.Text Preprocessing\n",
    "* 4.Text Presentation\n",
    "* 5.Model Building\n",
    "* 6.Evaluation\n",
    "* 7.Improvement\n",
    "* 8.Website\n",
    "* 9.Deploy"
   ]
  },
  {
   "cell_type": "markdown",
   "metadata": {},
   "source": [
    "## <u>1.Data Cleaning</u>"
   ]
  },
  {
   "cell_type": "code",
   "execution_count": 5,
   "metadata": {
    "execution": {
     "iopub.execute_input": "2022-03-27T04:28:36.050032Z",
     "iopub.status.busy": "2022-03-27T04:28:36.049299Z",
     "iopub.status.idle": "2022-03-27T04:28:36.071164Z",
     "shell.execute_reply": "2022-03-27T04:28:36.070472Z",
     "shell.execute_reply.started": "2022-03-27T04:28:36.049976Z"
    }
   },
   "outputs": [
    {
     "name": "stdout",
     "output_type": "stream",
     "text": [
      "<class 'pandas.core.frame.DataFrame'>\n",
      "RangeIndex: 5572 entries, 0 to 5571\n",
      "Data columns (total 5 columns):\n",
      " #   Column      Non-Null Count  Dtype \n",
      "---  ------      --------------  ----- \n",
      " 0   v1          5572 non-null   object\n",
      " 1   v2          5572 non-null   object\n",
      " 2   Unnamed: 2  50 non-null     object\n",
      " 3   Unnamed: 3  12 non-null     object\n",
      " 4   Unnamed: 4  6 non-null      object\n",
      "dtypes: object(5)\n",
      "memory usage: 217.8+ KB\n"
     ]
    }
   ],
   "source": [
    "df.info()"
   ]
  },
  {
   "cell_type": "code",
   "execution_count": 6,
   "metadata": {
    "execution": {
     "iopub.execute_input": "2022-03-27T04:28:36.073453Z",
     "iopub.status.busy": "2022-03-27T04:28:36.073216Z",
     "iopub.status.idle": "2022-03-27T04:28:36.079893Z",
     "shell.execute_reply": "2022-03-27T04:28:36.079227Z",
     "shell.execute_reply.started": "2022-03-27T04:28:36.073422Z"
    }
   },
   "outputs": [],
   "source": [
    "# I drop the last 3 feature because they has nan values so it's note good for my model\n",
    "df.drop(df.iloc[:,2:], axis=1, inplace=True)"
   ]
  },
  {
   "cell_type": "code",
   "execution_count": 7,
   "metadata": {
    "execution": {
     "iopub.execute_input": "2022-03-27T04:28:36.081915Z",
     "iopub.status.busy": "2022-03-27T04:28:36.081352Z",
     "iopub.status.idle": "2022-03-27T04:28:36.091165Z",
     "shell.execute_reply": "2022-03-27T04:28:36.090407Z",
     "shell.execute_reply.started": "2022-03-27T04:28:36.081879Z"
    }
   },
   "outputs": [
    {
     "data": {
      "text/html": [
       "<div>\n",
       "<style scoped>\n",
       "    .dataframe tbody tr th:only-of-type {\n",
       "        vertical-align: middle;\n",
       "    }\n",
       "\n",
       "    .dataframe tbody tr th {\n",
       "        vertical-align: top;\n",
       "    }\n",
       "\n",
       "    .dataframe thead th {\n",
       "        text-align: right;\n",
       "    }\n",
       "</style>\n",
       "<table border=\"1\" class=\"dataframe\">\n",
       "  <thead>\n",
       "    <tr style=\"text-align: right;\">\n",
       "      <th></th>\n",
       "      <th>v1</th>\n",
       "      <th>v2</th>\n",
       "    </tr>\n",
       "  </thead>\n",
       "  <tbody>\n",
       "    <tr>\n",
       "      <th>0</th>\n",
       "      <td>ham</td>\n",
       "      <td>Go until jurong point, crazy.. Available only ...</td>\n",
       "    </tr>\n",
       "    <tr>\n",
       "      <th>1</th>\n",
       "      <td>ham</td>\n",
       "      <td>Ok lar... Joking wif u oni...</td>\n",
       "    </tr>\n",
       "    <tr>\n",
       "      <th>2</th>\n",
       "      <td>spam</td>\n",
       "      <td>Free entry in 2 a wkly comp to win FA Cup fina...</td>\n",
       "    </tr>\n",
       "    <tr>\n",
       "      <th>3</th>\n",
       "      <td>ham</td>\n",
       "      <td>U dun say so early hor... U c already then say...</td>\n",
       "    </tr>\n",
       "    <tr>\n",
       "      <th>4</th>\n",
       "      <td>ham</td>\n",
       "      <td>Nah I don't think he goes to usf, he lives aro...</td>\n",
       "    </tr>\n",
       "  </tbody>\n",
       "</table>\n",
       "</div>"
      ],
      "text/plain": [
       "     v1                                                 v2\n",
       "0   ham  Go until jurong point, crazy.. Available only ...\n",
       "1   ham                      Ok lar... Joking wif u oni...\n",
       "2  spam  Free entry in 2 a wkly comp to win FA Cup fina...\n",
       "3   ham  U dun say so early hor... U c already then say...\n",
       "4   ham  Nah I don't think he goes to usf, he lives aro..."
      ]
     },
     "execution_count": 7,
     "metadata": {},
     "output_type": "execute_result"
    }
   ],
   "source": [
    "# after droping feature my data looks like something that!\n",
    "df.head()"
   ]
  },
  {
   "cell_type": "code",
   "execution_count": 8,
   "metadata": {
    "execution": {
     "iopub.execute_input": "2022-03-27T04:28:36.0939Z",
     "iopub.status.busy": "2022-03-27T04:28:36.093298Z",
     "iopub.status.idle": "2022-03-27T04:28:36.099142Z",
     "shell.execute_reply": "2022-03-27T04:28:36.098431Z",
     "shell.execute_reply.started": "2022-03-27T04:28:36.093864Z"
    }
   },
   "outputs": [],
   "source": [
    "# rename the columns so that i can easily understand\n",
    "df.rename(columns={'v1':'target','v2':'text'}, inplace=True)"
   ]
  },
  {
   "cell_type": "code",
   "execution_count": 9,
   "metadata": {
    "execution": {
     "iopub.execute_input": "2022-03-27T04:28:36.198158Z",
     "iopub.status.busy": "2022-03-27T04:28:36.197474Z",
     "iopub.status.idle": "2022-03-27T04:28:36.210243Z",
     "shell.execute_reply": "2022-03-27T04:28:36.209586Z",
     "shell.execute_reply.started": "2022-03-27T04:28:36.198113Z"
    }
   },
   "outputs": [
    {
     "data": {
      "text/html": [
       "<div>\n",
       "<style scoped>\n",
       "    .dataframe tbody tr th:only-of-type {\n",
       "        vertical-align: middle;\n",
       "    }\n",
       "\n",
       "    .dataframe tbody tr th {\n",
       "        vertical-align: top;\n",
       "    }\n",
       "\n",
       "    .dataframe thead th {\n",
       "        text-align: right;\n",
       "    }\n",
       "</style>\n",
       "<table border=\"1\" class=\"dataframe\">\n",
       "  <thead>\n",
       "    <tr style=\"text-align: right;\">\n",
       "      <th></th>\n",
       "      <th>target</th>\n",
       "      <th>text</th>\n",
       "    </tr>\n",
       "  </thead>\n",
       "  <tbody>\n",
       "    <tr>\n",
       "      <th>658</th>\n",
       "      <td>ham</td>\n",
       "      <td>It doesnt make sense to take it there unless i...</td>\n",
       "    </tr>\n",
       "    <tr>\n",
       "      <th>4903</th>\n",
       "      <td>ham</td>\n",
       "      <td>no, i *didn't* mean to post it. I wrote it, an...</td>\n",
       "    </tr>\n",
       "    <tr>\n",
       "      <th>1278</th>\n",
       "      <td>ham</td>\n",
       "      <td>Can i meet Ì_ at 5.. As 4 where depends on whe...</td>\n",
       "    </tr>\n",
       "    <tr>\n",
       "      <th>2357</th>\n",
       "      <td>ham</td>\n",
       "      <td>Okay same with me. Well thanks for the clarifi...</td>\n",
       "    </tr>\n",
       "    <tr>\n",
       "      <th>4982</th>\n",
       "      <td>ham</td>\n",
       "      <td>Networking job is there.</td>\n",
       "    </tr>\n",
       "  </tbody>\n",
       "</table>\n",
       "</div>"
      ],
      "text/plain": [
       "     target                                               text\n",
       "658     ham  It doesnt make sense to take it there unless i...\n",
       "4903    ham  no, i *didn't* mean to post it. I wrote it, an...\n",
       "1278    ham  Can i meet Ì_ at 5.. As 4 where depends on whe...\n",
       "2357    ham  Okay same with me. Well thanks for the clarifi...\n",
       "4982    ham                           Networking job is there."
      ]
     },
     "execution_count": 9,
     "metadata": {},
     "output_type": "execute_result"
    }
   ],
   "source": [
    "df.sample(5) # show me randomly 5 rows"
   ]
  },
  {
   "cell_type": "code",
   "execution_count": 10,
   "metadata": {
    "execution": {
     "iopub.execute_input": "2022-03-27T04:28:36.212616Z",
     "iopub.status.busy": "2022-03-27T04:28:36.212234Z",
     "iopub.status.idle": "2022-03-27T04:28:37.055136Z",
     "shell.execute_reply": "2022-03-27T04:28:37.054382Z",
     "shell.execute_reply.started": "2022-03-27T04:28:36.212582Z"
    }
   },
   "outputs": [],
   "source": [
    "# encode the target feature into numbers\n",
    "from sklearn.preprocessing import LabelEncoder\n",
    "en = LabelEncoder()\n",
    "df['target'] = en.fit_transform(df['target'])"
   ]
  },
  {
   "cell_type": "code",
   "execution_count": 11,
   "metadata": {
    "execution": {
     "iopub.execute_input": "2022-03-27T04:28:37.05672Z",
     "iopub.status.busy": "2022-03-27T04:28:37.05647Z",
     "iopub.status.idle": "2022-03-27T04:28:37.069486Z",
     "shell.execute_reply": "2022-03-27T04:28:37.068257Z",
     "shell.execute_reply.started": "2022-03-27T04:28:37.056676Z"
    }
   },
   "outputs": [
    {
     "data": {
      "text/html": [
       "<div>\n",
       "<style scoped>\n",
       "    .dataframe tbody tr th:only-of-type {\n",
       "        vertical-align: middle;\n",
       "    }\n",
       "\n",
       "    .dataframe tbody tr th {\n",
       "        vertical-align: top;\n",
       "    }\n",
       "\n",
       "    .dataframe thead th {\n",
       "        text-align: right;\n",
       "    }\n",
       "</style>\n",
       "<table border=\"1\" class=\"dataframe\">\n",
       "  <thead>\n",
       "    <tr style=\"text-align: right;\">\n",
       "      <th></th>\n",
       "      <th>target</th>\n",
       "      <th>text</th>\n",
       "    </tr>\n",
       "  </thead>\n",
       "  <tbody>\n",
       "    <tr>\n",
       "      <th>4462</th>\n",
       "      <td>0</td>\n",
       "      <td>He said i look pretty wif long hair wat. But i...</td>\n",
       "    </tr>\n",
       "    <tr>\n",
       "      <th>318</th>\n",
       "      <td>1</td>\n",
       "      <td>December only! Had your mobile 11mths+? You ar...</td>\n",
       "    </tr>\n",
       "    <tr>\n",
       "      <th>3504</th>\n",
       "      <td>0</td>\n",
       "      <td>life alle mone,eppolum oru pole allalo</td>\n",
       "    </tr>\n",
       "    <tr>\n",
       "      <th>2750</th>\n",
       "      <td>0</td>\n",
       "      <td>Ok but tell me half an hr b4 u come i need 2 p...</td>\n",
       "    </tr>\n",
       "    <tr>\n",
       "      <th>3861</th>\n",
       "      <td>0</td>\n",
       "      <td>Customer place, i wil cal u sir.</td>\n",
       "    </tr>\n",
       "  </tbody>\n",
       "</table>\n",
       "</div>"
      ],
      "text/plain": [
       "      target                                               text\n",
       "4462       0  He said i look pretty wif long hair wat. But i...\n",
       "318        1  December only! Had your mobile 11mths+? You ar...\n",
       "3504       0             life alle mone,eppolum oru pole allalo\n",
       "2750       0  Ok but tell me half an hr b4 u come i need 2 p...\n",
       "3861       0                   Customer place, i wil cal u sir."
      ]
     },
     "execution_count": 11,
     "metadata": {},
     "output_type": "execute_result"
    }
   ],
   "source": [
    "df.sample(5)"
   ]
  },
  {
   "cell_type": "code",
   "execution_count": 12,
   "metadata": {
    "execution": {
     "iopub.execute_input": "2022-03-27T04:28:37.073163Z",
     "iopub.status.busy": "2022-03-27T04:28:37.070434Z",
     "iopub.status.idle": "2022-03-27T04:28:37.082716Z",
     "shell.execute_reply": "2022-03-27T04:28:37.082045Z",
     "shell.execute_reply.started": "2022-03-27T04:28:37.073123Z"
    }
   },
   "outputs": [
    {
     "data": {
      "text/plain": [
       "target    0\n",
       "text      0\n",
       "dtype: int64"
      ]
     },
     "execution_count": 12,
     "metadata": {},
     "output_type": "execute_result"
    }
   ],
   "source": [
    "# missing values\n",
    "df.isnull().sum()"
   ]
  },
  {
   "cell_type": "code",
   "execution_count": 13,
   "metadata": {
    "execution": {
     "iopub.execute_input": "2022-03-27T04:28:37.085753Z",
     "iopub.status.busy": "2022-03-27T04:28:37.085302Z",
     "iopub.status.idle": "2022-03-27T04:28:37.096161Z",
     "shell.execute_reply": "2022-03-27T04:28:37.095522Z",
     "shell.execute_reply.started": "2022-03-27T04:28:37.085715Z"
    }
   },
   "outputs": [
    {
     "data": {
      "text/plain": [
       "403"
      ]
     },
     "execution_count": 13,
     "metadata": {},
     "output_type": "execute_result"
    }
   ],
   "source": [
    "# check for duplicates values\n",
    "df.duplicated().sum()"
   ]
  },
  {
   "cell_type": "code",
   "execution_count": 14,
   "metadata": {
    "execution": {
     "iopub.execute_input": "2022-03-27T04:28:37.097561Z",
     "iopub.status.busy": "2022-03-27T04:28:37.097244Z",
     "iopub.status.idle": "2022-03-27T04:28:37.105938Z",
     "shell.execute_reply": "2022-03-27T04:28:37.105202Z",
     "shell.execute_reply.started": "2022-03-27T04:28:37.097524Z"
    }
   },
   "outputs": [],
   "source": [
    "# remove duplicates\n",
    "df.drop_duplicates(keep='first', inplace=True)"
   ]
  },
  {
   "cell_type": "code",
   "execution_count": 15,
   "metadata": {
    "execution": {
     "iopub.execute_input": "2022-03-27T04:28:37.107474Z",
     "iopub.status.busy": "2022-03-27T04:28:37.107157Z",
     "iopub.status.idle": "2022-03-27T04:28:37.11827Z",
     "shell.execute_reply": "2022-03-27T04:28:37.117351Z",
     "shell.execute_reply.started": "2022-03-27T04:28:37.107439Z"
    }
   },
   "outputs": [
    {
     "name": "stdout",
     "output_type": "stream",
     "text": [
      "0\n",
      "(5169, 2)\n"
     ]
    }
   ],
   "source": [
    "print(df.duplicated().sum()) # so duplicated values drop successfully\n",
    "print(df.shape) # and shape would be this after droping duplicate values"
   ]
  },
  {
   "cell_type": "markdown",
   "metadata": {},
   "source": [
    "## <u>2.EDA</u>"
   ]
  },
  {
   "cell_type": "code",
   "execution_count": 16,
   "metadata": {
    "execution": {
     "iopub.execute_input": "2022-03-27T04:28:37.120386Z",
     "iopub.status.busy": "2022-03-27T04:28:37.119771Z",
     "iopub.status.idle": "2022-03-27T04:28:37.128642Z",
     "shell.execute_reply": "2022-03-27T04:28:37.127987Z",
     "shell.execute_reply.started": "2022-03-27T04:28:37.120349Z"
    }
   },
   "outputs": [
    {
     "data": {
      "text/plain": [
       "0    4516\n",
       "1     653\n",
       "Name: target, dtype: int64"
      ]
     },
     "execution_count": 16,
     "metadata": {},
     "output_type": "execute_result"
    }
   ],
   "source": [
    "# checking the imbalanced target feature\n",
    "df.target.value_counts()\n",
    "# my data is imbalanced so i need to remember that"
   ]
  },
  {
   "cell_type": "code",
   "execution_count": 17,
   "metadata": {
    "execution": {
     "iopub.execute_input": "2022-03-27T04:28:37.130961Z",
     "iopub.status.busy": "2022-03-27T04:28:37.129989Z",
     "iopub.status.idle": "2022-03-27T04:28:37.243202Z",
     "shell.execute_reply": "2022-03-27T04:28:37.242452Z",
     "shell.execute_reply.started": "2022-03-27T04:28:37.130924Z"
    }
   },
   "outputs": [],
   "source": [
    "import matplotlib.pyplot as plt\n",
    "import seaborn as sns"
   ]
  },
  {
   "cell_type": "code",
   "execution_count": 18,
   "metadata": {
    "execution": {
     "iopub.execute_input": "2022-03-27T04:28:37.244779Z",
     "iopub.status.busy": "2022-03-27T04:28:37.244442Z",
     "iopub.status.idle": "2022-03-27T04:28:37.430642Z",
     "shell.execute_reply": "2022-03-27T04:28:37.429737Z",
     "shell.execute_reply.started": "2022-03-27T04:28:37.244741Z"
    }
   },
   "outputs": [
    {
     "data": {
      "text/plain": [
       "<AxesSubplot:xlabel='target', ylabel='count'>"
      ]
     },
     "execution_count": 18,
     "metadata": {},
     "output_type": "execute_result"
    },
    {
     "data": {
      "image/png": "[encoded data removed]",
      "text/plain": [
       "<Figure size 432x288 with 1 Axes>"
      ]
     },
     "metadata": {
      "needs_background": "light"
     },
     "output_type": "display_data"
    }
   ],
   "source": [
    "# imbalaned target feature visualization\n",
    "sns.countplot(df['target'], orient=True)"
   ]
  },
  {
   "cell_type": "code",
   "execution_count": 19,
   "metadata": {
    "execution": {
     "iopub.execute_input": "2022-03-27T04:28:37.433691Z",
     "iopub.status.busy": "2022-03-27T04:28:37.43279Z",
     "iopub.status.idle": "2022-03-27T04:28:37.542867Z",
     "shell.execute_reply": "2022-03-27T04:28:37.541897Z",
     "shell.execute_reply.started": "2022-03-27T04:28:37.433633Z"
    }
   },
   "outputs": [
    {
     "data": {
      "image/png": "[encoded data removed]",
      "text/plain": [
       "<Figure size 432x288 with 1 Axes>"
      ]
     },
     "metadata": {},
     "output_type": "display_data"
    }
   ],
   "source": [
    "import matplotlib.pyplot as plt\n",
    "plt.pie(df['target'].value_counts(), labels=['ham','spam'],autopct=\"%0.2f\", colors=['gray','k'])\n",
    "plt.show()"
   ]
  },
  {
   "cell_type": "code",
   "execution_count": 20,
   "metadata": {
    "execution": {
     "iopub.execute_input": "2022-03-27T04:28:37.551261Z",
     "iopub.status.busy": "2022-03-27T04:28:37.550735Z",
     "iopub.status.idle": "2022-03-27T04:28:38.377518Z",
     "shell.execute_reply": "2022-03-27T04:28:38.376716Z",
     "shell.execute_reply.started": "2022-03-27T04:28:37.550992Z"
    }
   },
   "outputs": [
    {
     "name": "stderr",
     "output_type": "stream",
     "text": [
      "[nltk_data] Downloading package punkt to /home/saad/nltk_data...\n",
      "[nltk_data]   Package punkt is already up-to-date!\n"
     ]
    },
    {
     "data": {
      "text/plain": [
       "True"
      ]
     },
     "execution_count": 20,
     "metadata": {},
     "output_type": "execute_result"
    }
   ],
   "source": [
    "import nltk\n",
    "nltk.download('punkt') # this is must to download for using nltk library "
   ]
  },
  {
   "cell_type": "code",
   "execution_count": 21,
   "metadata": {
    "execution": {
     "iopub.execute_input": "2022-03-27T04:28:38.38155Z",
     "iopub.status.busy": "2022-03-27T04:28:38.381331Z",
     "iopub.status.idle": "2022-03-27T04:28:38.388543Z",
     "shell.execute_reply": "2022-03-27T04:28:38.387631Z",
     "shell.execute_reply.started": "2022-03-27T04:28:38.381513Z"
    }
   },
   "outputs": [],
   "source": [
    "# count number of character in text\n",
    "df['num_characters'] = df['text'].apply(len)"
   ]
  },
  {
   "cell_type": "code",
   "execution_count": 22,
   "metadata": {
    "execution": {
     "iopub.execute_input": "2022-03-27T04:28:38.390332Z",
     "iopub.status.busy": "2022-03-27T04:28:38.389926Z",
     "iopub.status.idle": "2022-03-27T04:28:39.850931Z",
     "shell.execute_reply": "2022-03-27T04:28:39.8502Z",
     "shell.execute_reply.started": "2022-03-27T04:28:38.390298Z"
    }
   },
   "outputs": [],
   "source": [
    "# count number of words in text\n",
    "df['num_words'] = df['text'].apply(lambda x:len(nltk.word_tokenize(x)))"
   ]
  },
  {
   "cell_type": "code",
   "execution_count": 23,
   "metadata": {
    "execution": {
     "iopub.execute_input": "2022-03-27T04:28:39.852493Z",
     "iopub.status.busy": "2022-03-27T04:28:39.852248Z",
     "iopub.status.idle": "2022-03-27T04:28:40.181117Z",
     "shell.execute_reply": "2022-03-27T04:28:40.180441Z",
     "shell.execute_reply.started": "2022-03-27T04:28:39.852459Z"
    }
   },
   "outputs": [
    {
     "data": {
      "text/html": [
       "<div>\n",
       "<style scoped>\n",
       "    .dataframe tbody tr th:only-of-type {\n",
       "        vertical-align: middle;\n",
       "    }\n",
       "\n",
       "    .dataframe tbody tr th {\n",
       "        vertical-align: top;\n",
       "    }\n",
       "\n",
       "    .dataframe thead th {\n",
       "        text-align: right;\n",
       "    }\n",
       "</style>\n",
       "<table border=\"1\" class=\"dataframe\">\n",
       "  <thead>\n",
       "    <tr style=\"text-align: right;\">\n",
       "      <th></th>\n",
       "      <th>target</th>\n",
       "      <th>text</th>\n",
       "      <th>num_characters</th>\n",
       "      <th>num_words</th>\n",
       "      <th>num_sentences</th>\n",
       "    </tr>\n",
       "  </thead>\n",
       "  <tbody>\n",
       "    <tr>\n",
       "      <th>0</th>\n",
       "      <td>0</td>\n",
       "      <td>Go until jurong point, crazy.. Available only ...</td>\n",
       "      <td>111</td>\n",
       "      <td>24</td>\n",
       "      <td>2</td>\n",
       "    </tr>\n",
       "    <tr>\n",
       "      <th>1</th>\n",
       "      <td>0</td>\n",
       "      <td>Ok lar... Joking wif u oni...</td>\n",
       "      <td>29</td>\n",
       "      <td>8</td>\n",
       "      <td>2</td>\n",
       "    </tr>\n",
       "    <tr>\n",
       "      <th>2</th>\n",
       "      <td>1</td>\n",
       "      <td>Free entry in 2 a wkly comp to win FA Cup fina...</td>\n",
       "      <td>155</td>\n",
       "      <td>37</td>\n",
       "      <td>2</td>\n",
       "    </tr>\n",
       "    <tr>\n",
       "      <th>3</th>\n",
       "      <td>0</td>\n",
       "      <td>U dun say so early hor... U c already then say...</td>\n",
       "      <td>49</td>\n",
       "      <td>13</td>\n",
       "      <td>1</td>\n",
       "    </tr>\n",
       "    <tr>\n",
       "      <th>4</th>\n",
       "      <td>0</td>\n",
       "      <td>Nah I don't think he goes to usf, he lives aro...</td>\n",
       "      <td>61</td>\n",
       "      <td>15</td>\n",
       "      <td>1</td>\n",
       "    </tr>\n",
       "  </tbody>\n",
       "</table>\n",
       "</div>"
      ],
      "text/plain": [
       "   target                                               text  num_characters  \\\n",
       "0       0  Go until jurong point, crazy.. Available only ...             111   \n",
       "1       0                      Ok lar... Joking wif u oni...              29   \n",
       "2       1  Free entry in 2 a wkly comp to win FA Cup fina...             155   \n",
       "3       0  U dun say so early hor... U c already then say...              49   \n",
       "4       0  Nah I don't think he goes to usf, he lives aro...              61   \n",
       "\n",
       "   num_words  num_sentences  \n",
       "0         24              2  \n",
       "1          8              2  \n",
       "2         37              2  \n",
       "3         13              1  \n",
       "4         15              1  "
      ]
     },
     "execution_count": 23,
     "metadata": {},
     "output_type": "execute_result"
    }
   ],
   "source": [
    "# count number of sentence in text\n",
    "df['num_sentences'] = df['text'].apply(lambda x:len(nltk.sent_tokenize(x)))\n",
    "df.head()"
   ]
  },
  {
   "cell_type": "code",
   "execution_count": 24,
   "metadata": {
    "execution": {
     "iopub.execute_input": "2022-03-27T04:28:40.182514Z",
     "iopub.status.busy": "2022-03-27T04:28:40.182283Z",
     "iopub.status.idle": "2022-03-27T04:28:40.336684Z",
     "shell.execute_reply": "2022-03-27T04:28:40.335839Z",
     "shell.execute_reply.started": "2022-03-27T04:28:40.18248Z"
    }
   },
   "outputs": [
    {
     "data": {
      "text/html": [
       "<div>\n",
       "<style scoped>\n",
       "    .dataframe tbody tr th:only-of-type {\n",
       "        vertical-align: middle;\n",
       "    }\n",
       "\n",
       "    .dataframe tbody tr th {\n",
       "        vertical-align: top;\n",
       "    }\n",
       "\n",
       "    .dataframe thead th {\n",
       "        text-align: right;\n",
       "    }\n",
       "</style>\n",
       "<table border=\"1\" class=\"dataframe\">\n",
       "  <thead>\n",
       "    <tr style=\"text-align: right;\">\n",
       "      <th></th>\n",
       "      <th>num_characters</th>\n",
       "      <th>num_words</th>\n",
       "      <th>num_sentences</th>\n",
       "    </tr>\n",
       "  </thead>\n",
       "  <tbody>\n",
       "    <tr>\n",
       "      <th>count</th>\n",
       "      <td>5169.000000</td>\n",
       "      <td>5169.000000</td>\n",
       "      <td>5169.000000</td>\n",
       "    </tr>\n",
       "    <tr>\n",
       "      <th>mean</th>\n",
       "      <td>78.977945</td>\n",
       "      <td>18.455407</td>\n",
       "      <td>1.961308</td>\n",
       "    </tr>\n",
       "    <tr>\n",
       "      <th>std</th>\n",
       "      <td>58.236293</td>\n",
       "      <td>13.322448</td>\n",
       "      <td>1.432583</td>\n",
       "    </tr>\n",
       "    <tr>\n",
       "      <th>min</th>\n",
       "      <td>2.000000</td>\n",
       "      <td>1.000000</td>\n",
       "      <td>1.000000</td>\n",
       "    </tr>\n",
       "    <tr>\n",
       "      <th>25%</th>\n",
       "      <td>36.000000</td>\n",
       "      <td>9.000000</td>\n",
       "      <td>1.000000</td>\n",
       "    </tr>\n",
       "    <tr>\n",
       "      <th>50%</th>\n",
       "      <td>60.000000</td>\n",
       "      <td>15.000000</td>\n",
       "      <td>1.000000</td>\n",
       "    </tr>\n",
       "    <tr>\n",
       "      <th>75%</th>\n",
       "      <td>117.000000</td>\n",
       "      <td>26.000000</td>\n",
       "      <td>2.000000</td>\n",
       "    </tr>\n",
       "    <tr>\n",
       "      <th>max</th>\n",
       "      <td>910.000000</td>\n",
       "      <td>220.000000</td>\n",
       "      <td>38.000000</td>\n",
       "    </tr>\n",
       "  </tbody>\n",
       "</table>\n",
       "</div>"
      ],
      "text/plain": [
       "       num_characters    num_words  num_sentences\n",
       "count     5169.000000  5169.000000    5169.000000\n",
       "mean        78.977945    18.455407       1.961308\n",
       "std         58.236293    13.322448       1.432583\n",
       "min          2.000000     1.000000       1.000000\n",
       "25%         36.000000     9.000000       1.000000\n",
       "50%         60.000000    15.000000       1.000000\n",
       "75%        117.000000    26.000000       2.000000\n",
       "max        910.000000   220.000000      38.000000"
      ]
     },
     "execution_count": 24,
     "metadata": {},
     "output_type": "execute_result"
    }
   ],
   "source": [
    "# getting more information of features\n",
    "df[['num_characters','num_words','num_sentences']].describe()"
   ]
  },
  {
   "cell_type": "code",
   "execution_count": 25,
   "metadata": {
    "execution": {
     "iopub.execute_input": "2022-03-27T04:28:40.343594Z",
     "iopub.status.busy": "2022-03-27T04:28:40.341187Z",
     "iopub.status.idle": "2022-03-27T04:28:40.379083Z",
     "shell.execute_reply": "2022-03-27T04:28:40.375329Z",
     "shell.execute_reply.started": "2022-03-27T04:28:40.343552Z"
    }
   },
   "outputs": [
    {
     "data": {
      "text/html": [
       "<div>\n",
       "<style scoped>\n",
       "    .dataframe tbody tr th:only-of-type {\n",
       "        vertical-align: middle;\n",
       "    }\n",
       "\n",
       "    .dataframe tbody tr th {\n",
       "        vertical-align: top;\n",
       "    }\n",
       "\n",
       "    .dataframe thead th {\n",
       "        text-align: right;\n",
       "    }\n",
       "</style>\n",
       "<table border=\"1\" class=\"dataframe\">\n",
       "  <thead>\n",
       "    <tr style=\"text-align: right;\">\n",
       "      <th></th>\n",
       "      <th>num_characters</th>\n",
       "      <th>num_words</th>\n",
       "      <th>num_sentences</th>\n",
       "    </tr>\n",
       "  </thead>\n",
       "  <tbody>\n",
       "    <tr>\n",
       "      <th>count</th>\n",
       "      <td>4516.000000</td>\n",
       "      <td>4516.000000</td>\n",
       "      <td>4516.000000</td>\n",
       "    </tr>\n",
       "    <tr>\n",
       "      <th>mean</th>\n",
       "      <td>70.459256</td>\n",
       "      <td>17.123339</td>\n",
       "      <td>1.815545</td>\n",
       "    </tr>\n",
       "    <tr>\n",
       "      <th>std</th>\n",
       "      <td>56.358207</td>\n",
       "      <td>13.491315</td>\n",
       "      <td>1.364098</td>\n",
       "    </tr>\n",
       "    <tr>\n",
       "      <th>min</th>\n",
       "      <td>2.000000</td>\n",
       "      <td>1.000000</td>\n",
       "      <td>1.000000</td>\n",
       "    </tr>\n",
       "    <tr>\n",
       "      <th>25%</th>\n",
       "      <td>34.000000</td>\n",
       "      <td>8.000000</td>\n",
       "      <td>1.000000</td>\n",
       "    </tr>\n",
       "    <tr>\n",
       "      <th>50%</th>\n",
       "      <td>52.000000</td>\n",
       "      <td>13.000000</td>\n",
       "      <td>1.000000</td>\n",
       "    </tr>\n",
       "    <tr>\n",
       "      <th>75%</th>\n",
       "      <td>90.000000</td>\n",
       "      <td>22.000000</td>\n",
       "      <td>2.000000</td>\n",
       "    </tr>\n",
       "    <tr>\n",
       "      <th>max</th>\n",
       "      <td>910.000000</td>\n",
       "      <td>220.000000</td>\n",
       "      <td>38.000000</td>\n",
       "    </tr>\n",
       "  </tbody>\n",
       "</table>\n",
       "</div>"
      ],
      "text/plain": [
       "       num_characters    num_words  num_sentences\n",
       "count     4516.000000  4516.000000    4516.000000\n",
       "mean        70.459256    17.123339       1.815545\n",
       "std         56.358207    13.491315       1.364098\n",
       "min          2.000000     1.000000       1.000000\n",
       "25%         34.000000     8.000000       1.000000\n",
       "50%         52.000000    13.000000       1.000000\n",
       "75%         90.000000    22.000000       2.000000\n",
       "max        910.000000   220.000000      38.000000"
      ]
     },
     "execution_count": 25,
     "metadata": {},
     "output_type": "execute_result"
    }
   ],
   "source": [
    "# information for (ham) type\n",
    "df[df['target'] == 0][['num_characters','num_words','num_sentences']].describe()"
   ]
  },
  {
   "cell_type": "code",
   "execution_count": 26,
   "metadata": {
    "execution": {
     "iopub.execute_input": "2022-03-27T04:28:40.381275Z",
     "iopub.status.busy": "2022-03-27T04:28:40.380809Z",
     "iopub.status.idle": "2022-03-27T04:28:40.418748Z",
     "shell.execute_reply": "2022-03-27T04:28:40.417875Z",
     "shell.execute_reply.started": "2022-03-27T04:28:40.38123Z"
    }
   },
   "outputs": [
    {
     "data": {
      "text/html": [
       "<div>\n",
       "<style scoped>\n",
       "    .dataframe tbody tr th:only-of-type {\n",
       "        vertical-align: middle;\n",
       "    }\n",
       "\n",
       "    .dataframe tbody tr th {\n",
       "        vertical-align: top;\n",
       "    }\n",
       "\n",
       "    .dataframe thead th {\n",
       "        text-align: right;\n",
       "    }\n",
       "</style>\n",
       "<table border=\"1\" class=\"dataframe\">\n",
       "  <thead>\n",
       "    <tr style=\"text-align: right;\">\n",
       "      <th></th>\n",
       "      <th>num_characters</th>\n",
       "      <th>num_words</th>\n",
       "      <th>num_sentences</th>\n",
       "    </tr>\n",
       "  </thead>\n",
       "  <tbody>\n",
       "    <tr>\n",
       "      <th>count</th>\n",
       "      <td>653.000000</td>\n",
       "      <td>653.000000</td>\n",
       "      <td>653.000000</td>\n",
       "    </tr>\n",
       "    <tr>\n",
       "      <th>mean</th>\n",
       "      <td>137.891271</td>\n",
       "      <td>27.667688</td>\n",
       "      <td>2.969372</td>\n",
       "    </tr>\n",
       "    <tr>\n",
       "      <th>std</th>\n",
       "      <td>30.137753</td>\n",
       "      <td>7.008418</td>\n",
       "      <td>1.488910</td>\n",
       "    </tr>\n",
       "    <tr>\n",
       "      <th>min</th>\n",
       "      <td>13.000000</td>\n",
       "      <td>2.000000</td>\n",
       "      <td>1.000000</td>\n",
       "    </tr>\n",
       "    <tr>\n",
       "      <th>25%</th>\n",
       "      <td>132.000000</td>\n",
       "      <td>25.000000</td>\n",
       "      <td>2.000000</td>\n",
       "    </tr>\n",
       "    <tr>\n",
       "      <th>50%</th>\n",
       "      <td>149.000000</td>\n",
       "      <td>29.000000</td>\n",
       "      <td>3.000000</td>\n",
       "    </tr>\n",
       "    <tr>\n",
       "      <th>75%</th>\n",
       "      <td>157.000000</td>\n",
       "      <td>32.000000</td>\n",
       "      <td>4.000000</td>\n",
       "    </tr>\n",
       "    <tr>\n",
       "      <th>max</th>\n",
       "      <td>224.000000</td>\n",
       "      <td>46.000000</td>\n",
       "      <td>9.000000</td>\n",
       "    </tr>\n",
       "  </tbody>\n",
       "</table>\n",
       "</div>"
      ],
      "text/plain": [
       "       num_characters   num_words  num_sentences\n",
       "count      653.000000  653.000000     653.000000\n",
       "mean       137.891271   27.667688       2.969372\n",
       "std         30.137753    7.008418       1.488910\n",
       "min         13.000000    2.000000       1.000000\n",
       "25%        132.000000   25.000000       2.000000\n",
       "50%        149.000000   29.000000       3.000000\n",
       "75%        157.000000   32.000000       4.000000\n",
       "max        224.000000   46.000000       9.000000"
      ]
     },
     "execution_count": 26,
     "metadata": {},
     "output_type": "execute_result"
    }
   ],
   "source": [
    "# information for (spam) type\n",
    "df[df['target'] == 1][['num_characters','num_words','num_sentences']].describe()"
   ]
  },
  {
   "cell_type": "code",
   "execution_count": 27,
   "metadata": {
    "execution": {
     "iopub.execute_input": "2022-03-27T04:28:40.420483Z",
     "iopub.status.busy": "2022-03-27T04:28:40.420213Z",
     "iopub.status.idle": "2022-03-27T04:28:42.762116Z",
     "shell.execute_reply": "2022-03-27T04:28:42.7614Z",
     "shell.execute_reply.started": "2022-03-27T04:28:40.420448Z"
    }
   },
   "outputs": [
    {
     "data": {
      "image/png": "[encoded data removed]",
      "text/plain": [
       "<Figure size 864x720 with 3 Axes>"
      ]
     },
     "metadata": {
      "needs_background": "light"
     },
     "output_type": "display_data"
    }
   ],
   "source": [
    "# draw cahracters of different typs upon each other\n",
    "plt.figure(figsize=(12,10))\n",
    "plt.subplot(2,2,1)\n",
    "sns.histplot(df[df['target'] == 0]['num_characters'])\n",
    "sns.histplot(df[df['target'] == 1]['num_characters'],color='red')\n",
    "plt.title('character of spam over ham')\n",
    "\n",
    "plt.subplot(2,2,2)\n",
    "sns.histplot(df[df['target'] == 0]['num_words'])\n",
    "sns.histplot(df[df['target'] == 1]['num_words'],color='red')\n",
    "plt.title('words of spam over ham')\n",
    "\n",
    "plt.subplot(2,2,3)\n",
    "sns.histplot(df[df['target'] == 0]['num_sentences'])\n",
    "sns.histplot(df[df['target'] == 1]['num_sentences'],color='red')\n",
    "plt.title('sentences of spam over ham')\n",
    "plt.show()"
   ]
  },
  {
   "cell_type": "code",
   "execution_count": 28,
   "metadata": {
    "execution": {
     "iopub.execute_input": "2022-03-27T04:28:42.763739Z",
     "iopub.status.busy": "2022-03-27T04:28:42.763409Z",
     "iopub.status.idle": "2022-03-27T04:28:47.060425Z",
     "shell.execute_reply": "2022-03-27T04:28:47.059687Z",
     "shell.execute_reply.started": "2022-03-27T04:28:42.763703Z"
    }
   },
   "outputs": [
    {
     "data": {
      "text/plain": [
       "<seaborn.axisgrid.PairGrid at 0x7fb8c9d41070>"
      ]
     },
     "execution_count": 28,
     "metadata": {},
     "output_type": "execute_result"
    },
    {
     "data": {
      "image/png": "[encoded data removed]",
      "text/plain": [
       "<Figure size 582.375x540 with 12 Axes>"
      ]
     },
     "metadata": {
      "needs_background": "light"
     },
     "output_type": "display_data"
    }
   ],
   "source": [
    "# draw the pair plot to see the collinearity\n",
    "sns.pairplot(df,hue='target')"
   ]
  },
  {
   "cell_type": "code",
   "execution_count": 29,
   "metadata": {
    "execution": {
     "iopub.execute_input": "2022-03-27T04:28:47.061702Z",
     "iopub.status.busy": "2022-03-27T04:28:47.061433Z",
     "iopub.status.idle": "2022-03-27T04:28:47.339502Z",
     "shell.execute_reply": "2022-03-27T04:28:47.338836Z",
     "shell.execute_reply.started": "2022-03-27T04:28:47.061665Z"
    }
   },
   "outputs": [
    {
     "data": {
      "image/png": "[encoded data removed]",
      "text/plain": [
       "<Figure size 432x288 with 2 Axes>"
      ]
     },
     "metadata": {
      "needs_background": "light"
     },
     "output_type": "display_data"
    }
   ],
   "source": [
    "# as we can see there is slightly collinearity in data\n",
    "g = sns.heatmap(df.corr(),annot=True)\n",
    "g.set_xticklabels(g.get_xticklabels(), rotation=45, horizontalalignment='right')\n",
    "plt.show()"
   ]
  },
  {
   "cell_type": "markdown",
   "metadata": {},
   "source": [
    "## <u>3.Data Preprocessing</u>\n",
    "* Lower case\n",
    "* Tokenization\n",
    "* Removing special characters\n",
    "* Removing stop words and punctuation\n",
    "* Stemming\n",
    "* Feature Extraction"
   ]
  },
  {
   "cell_type": "code",
   "execution_count": 30,
   "metadata": {
    "execution": {
     "iopub.execute_input": "2022-03-27T04:28:47.341341Z",
     "iopub.status.busy": "2022-03-27T04:28:47.340877Z",
     "iopub.status.idle": "2022-03-27T04:28:47.345307Z",
     "shell.execute_reply": "2022-03-27T04:28:47.34467Z",
     "shell.execute_reply.started": "2022-03-27T04:28:47.341305Z"
    }
   },
   "outputs": [],
   "source": [
    "from nltk.corpus import stopwords\n",
    "import string\n",
    "from nltk.stem.porter import PorterStemmer\n",
    "ps = PorterStemmer()"
   ]
  },
  {
   "cell_type": "code",
   "execution_count": 31,
   "metadata": {
    "execution": {
     "iopub.execute_input": "2022-03-27T04:28:47.347102Z",
     "iopub.status.busy": "2022-03-27T04:28:47.346637Z",
     "iopub.status.idle": "2022-03-27T04:28:47.354933Z",
     "shell.execute_reply": "2022-03-27T04:28:47.354172Z",
     "shell.execute_reply.started": "2022-03-27T04:28:47.347066Z"
    }
   },
   "outputs": [],
   "source": [
    "def transform_text(text):\n",
    "    text = text.lower() # lower casing\n",
    "    text = nltk.word_tokenize(text) # tokenization\n",
    "    \n",
    "    y = []\n",
    "    for i in text:\n",
    "        if i.isalnum():\n",
    "            y.append(i)\n",
    "    \n",
    "    text = y[:]\n",
    "    y.clear() # remove special characters\n",
    "    \n",
    "    for i in text:\n",
    "        if i not in stopwords.words('english') and i not in string.punctuation: # stopword & punctuation remove\n",
    "            y.append(i)\n",
    "            \n",
    "    text = y[:]\n",
    "    y.clear()\n",
    "    \n",
    "    for i in text:\n",
    "        y.append(ps.stem(i)) # stemming\n",
    "            \n",
    "    return \" \".join(y)"
   ]
  },
  {
   "cell_type": "code",
   "execution_count": 32,
   "metadata": {
    "execution": {
     "iopub.execute_input": "2022-03-27T04:28:47.356724Z",
     "iopub.status.busy": "2022-03-27T04:28:47.35627Z",
     "iopub.status.idle": "2022-03-27T04:28:47.374846Z",
     "shell.execute_reply": "2022-03-27T04:28:47.374229Z",
     "shell.execute_reply.started": "2022-03-27T04:28:47.356688Z"
    }
   },
   "outputs": [
    {
     "data": {
      "text/plain": [
       "'love see artifici intellig model'"
      ]
     },
     "execution_count": 32,
     "metadata": {},
     "output_type": "execute_result"
    }
   ],
   "source": [
    "transform_text('I love to see the Artificial Intelligence Models. How about yOu?')"
   ]
  },
  {
   "cell_type": "code",
   "execution_count": 33,
   "metadata": {
    "execution": {
     "iopub.execute_input": "2022-03-27T04:28:47.376156Z",
     "iopub.status.busy": "2022-03-27T04:28:47.375846Z",
     "iopub.status.idle": "2022-03-27T04:28:47.387878Z",
     "shell.execute_reply": "2022-03-27T04:28:47.387046Z",
     "shell.execute_reply.started": "2022-03-27T04:28:47.37612Z"
    }
   },
   "outputs": [
    {
     "data": {
      "text/plain": [
       "'go jurong point crazi avail bugi n great world la e buffet cine got amor wat'"
      ]
     },
     "execution_count": 33,
     "metadata": {},
     "output_type": "execute_result"
    }
   ],
   "source": [
    "transform_text(df['text'][0])"
   ]
  },
  {
   "cell_type": "code",
   "execution_count": 34,
   "metadata": {
    "execution": {
     "iopub.execute_input": "2022-03-27T04:28:47.389223Z",
     "iopub.status.busy": "2022-03-27T04:28:47.388893Z",
     "iopub.status.idle": "2022-03-27T04:28:58.624872Z",
     "shell.execute_reply": "2022-03-27T04:28:58.624139Z",
     "shell.execute_reply.started": "2022-03-27T04:28:47.389188Z"
    }
   },
   "outputs": [],
   "source": [
    "df['transformed_text'] = df['text'].apply(transform_text)"
   ]
  },
  {
   "cell_type": "code",
   "execution_count": 35,
   "metadata": {
    "execution": {
     "iopub.execute_input": "2022-03-27T04:28:58.626259Z",
     "iopub.status.busy": "2022-03-27T04:28:58.625986Z",
     "iopub.status.idle": "2022-03-27T04:28:58.636776Z",
     "shell.execute_reply": "2022-03-27T04:28:58.63617Z",
     "shell.execute_reply.started": "2022-03-27T04:28:58.626225Z"
    }
   },
   "outputs": [
    {
     "data": {
      "text/html": [
       "<div>\n",
       "<style scoped>\n",
       "    .dataframe tbody tr th:only-of-type {\n",
       "        vertical-align: middle;\n",
       "    }\n",
       "\n",
       "    .dataframe tbody tr th {\n",
       "        vertical-align: top;\n",
       "    }\n",
       "\n",
       "    .dataframe thead th {\n",
       "        text-align: right;\n",
       "    }\n",
       "</style>\n",
       "<table border=\"1\" class=\"dataframe\">\n",
       "  <thead>\n",
       "    <tr style=\"text-align: right;\">\n",
       "      <th></th>\n",
       "      <th>target</th>\n",
       "      <th>text</th>\n",
       "      <th>num_characters</th>\n",
       "      <th>num_words</th>\n",
       "      <th>num_sentences</th>\n",
       "      <th>transformed_text</th>\n",
       "    </tr>\n",
       "  </thead>\n",
       "  <tbody>\n",
       "    <tr>\n",
       "      <th>0</th>\n",
       "      <td>0</td>\n",
       "      <td>Go until jurong point, crazy.. Available only ...</td>\n",
       "      <td>111</td>\n",
       "      <td>24</td>\n",
       "      <td>2</td>\n",
       "      <td>go jurong point crazi avail bugi n great world...</td>\n",
       "    </tr>\n",
       "    <tr>\n",
       "      <th>1</th>\n",
       "      <td>0</td>\n",
       "      <td>Ok lar... Joking wif u oni...</td>\n",
       "      <td>29</td>\n",
       "      <td>8</td>\n",
       "      <td>2</td>\n",
       "      <td>ok lar joke wif u oni</td>\n",
       "    </tr>\n",
       "    <tr>\n",
       "      <th>2</th>\n",
       "      <td>1</td>\n",
       "      <td>Free entry in 2 a wkly comp to win FA Cup fina...</td>\n",
       "      <td>155</td>\n",
       "      <td>37</td>\n",
       "      <td>2</td>\n",
       "      <td>free entri 2 wkli comp win fa cup final tkt 21...</td>\n",
       "    </tr>\n",
       "    <tr>\n",
       "      <th>3</th>\n",
       "      <td>0</td>\n",
       "      <td>U dun say so early hor... U c already then say...</td>\n",
       "      <td>49</td>\n",
       "      <td>13</td>\n",
       "      <td>1</td>\n",
       "      <td>u dun say earli hor u c alreadi say</td>\n",
       "    </tr>\n",
       "    <tr>\n",
       "      <th>4</th>\n",
       "      <td>0</td>\n",
       "      <td>Nah I don't think he goes to usf, he lives aro...</td>\n",
       "      <td>61</td>\n",
       "      <td>15</td>\n",
       "      <td>1</td>\n",
       "      <td>nah think goe usf live around though</td>\n",
       "    </tr>\n",
       "  </tbody>\n",
       "</table>\n",
       "</div>"
      ],
      "text/plain": [
       "   target                                               text  num_characters  \\\n",
       "0       0  Go until jurong point, crazy.. Available only ...             111   \n",
       "1       0                      Ok lar... Joking wif u oni...              29   \n",
       "2       1  Free entry in 2 a wkly comp to win FA Cup fina...             155   \n",
       "3       0  U dun say so early hor... U c already then say...              49   \n",
       "4       0  Nah I don't think he goes to usf, he lives aro...              61   \n",
       "\n",
       "   num_words  num_sentences                                   transformed_text  \n",
       "0         24              2  go jurong point crazi avail bugi n great world...  \n",
       "1          8              2                              ok lar joke wif u oni  \n",
       "2         37              2  free entri 2 wkli comp win fa cup final tkt 21...  \n",
       "3         13              1                u dun say earli hor u c alreadi say  \n",
       "4         15              1               nah think goe usf live around though  "
      ]
     },
     "execution_count": 35,
     "metadata": {},
     "output_type": "execute_result"
    }
   ],
   "source": [
    "df.head()"
   ]
  },
  {
   "cell_type": "markdown",
   "metadata": {
    "execution": {
     "iopub.execute_input": "2022-02-17T08:38:12.245871Z",
     "iopub.status.busy": "2022-02-17T08:38:12.24468Z",
     "iopub.status.idle": "2022-02-17T08:38:12.255663Z",
     "shell.execute_reply": "2022-02-17T08:38:12.254022Z",
     "shell.execute_reply.started": "2022-02-17T08:38:12.245826Z"
    }
   },
   "source": [
    "***World cloud :***\n",
    " A word cloud is a simple yet powerful visual representation object for text processing, which shows the most frequent word with bigger and bolder letters, and with different colors. The smaller the the size of the word the lesser it's important."
   ]
  },
  {
   "cell_type": "code",
   "execution_count": 36,
   "metadata": {
    "execution": {
     "iopub.execute_input": "2022-03-27T04:28:58.638733Z",
     "iopub.status.busy": "2022-03-27T04:28:58.637985Z",
     "iopub.status.idle": "2022-03-27T04:28:58.645708Z",
     "shell.execute_reply": "2022-03-27T04:28:58.645052Z",
     "shell.execute_reply.started": "2022-03-27T04:28:58.638695Z"
    }
   },
   "outputs": [],
   "source": [
    "# Let's see the wich words are use to make a message spam or ham by bolding those words "
   ]
  },
  {
   "cell_type": "code",
   "execution_count": 37,
   "metadata": {
    "execution": {
     "iopub.execute_input": "2022-03-27T04:28:58.648702Z",
     "iopub.status.busy": "2022-03-27T04:28:58.648462Z",
     "iopub.status.idle": "2022-03-27T04:28:58.690647Z",
     "shell.execute_reply": "2022-03-27T04:28:58.690038Z",
     "shell.execute_reply.started": "2022-03-27T04:28:58.648654Z"
    }
   },
   "outputs": [],
   "source": [
    "from wordcloud import WordCloud\n",
    "wc = WordCloud(width=500,height=500,min_font_size=10,background_color='white')"
   ]
  },
  {
   "cell_type": "code",
   "execution_count": 38,
   "metadata": {
    "execution": {
     "iopub.execute_input": "2022-03-27T04:28:58.693344Z",
     "iopub.status.busy": "2022-03-27T04:28:58.692922Z",
     "iopub.status.idle": "2022-03-27T04:28:59.140084Z",
     "shell.execute_reply": "2022-03-27T04:28:59.139362Z",
     "shell.execute_reply.started": "2022-03-27T04:28:58.693305Z"
    }
   },
   "outputs": [],
   "source": [
    "# for spam\n",
    "spam_wc = wc.generate(df[df['target'] == 1]['transformed_text'].str.cat(sep=\" \"))"
   ]
  },
  {
   "cell_type": "code",
   "execution_count": 39,
   "metadata": {
    "execution": {
     "iopub.execute_input": "2022-03-27T04:28:59.141592Z",
     "iopub.status.busy": "2022-03-27T04:28:59.141347Z",
     "iopub.status.idle": "2022-03-27T04:28:59.469142Z",
     "shell.execute_reply": "2022-03-27T04:28:59.468488Z",
     "shell.execute_reply.started": "2022-03-27T04:28:59.14156Z"
    }
   },
   "outputs": [
    {
     "data": {
      "image/png": "[encoded data removed]",
      "text/plain": [
       "<Figure size 648x432 with 1 Axes>"
      ]
     },
     "metadata": {
      "needs_background": "light"
     },
     "output_type": "display_data"
    }
   ],
   "source": [
    "plt.figure(figsize=(9,6))\n",
    "plt.imshow(spam_wc)\n",
    "plt.title('Words are mostly use in Spam Messages', size=15)\n",
    "plt.show()"
   ]
  },
  {
   "cell_type": "code",
   "execution_count": 40,
   "metadata": {
    "execution": {
     "iopub.execute_input": "2022-03-27T04:28:59.470702Z",
     "iopub.status.busy": "2022-03-27T04:28:59.470371Z",
     "iopub.status.idle": "2022-03-27T04:29:00.355264Z",
     "shell.execute_reply": "2022-03-27T04:29:00.354475Z",
     "shell.execute_reply.started": "2022-03-27T04:28:59.470668Z"
    }
   },
   "outputs": [],
   "source": [
    "ham_wc = wc.generate(df[df['target'] == 0]['transformed_text'].str.cat(sep=\" \"))"
   ]
  },
  {
   "cell_type": "code",
   "execution_count": 41,
   "metadata": {
    "execution": {
     "iopub.execute_input": "2022-03-27T04:29:00.356819Z",
     "iopub.status.busy": "2022-03-27T04:29:00.356539Z",
     "iopub.status.idle": "2022-03-27T04:29:00.749471Z",
     "shell.execute_reply": "2022-03-27T04:29:00.748858Z",
     "shell.execute_reply.started": "2022-03-27T04:29:00.356782Z"
    }
   },
   "outputs": [
    {
     "data": {
      "image/png": "[encoded data removed]",
      "text/plain": [
       "<Figure size 648x432 with 1 Axes>"
      ]
     },
     "metadata": {
      "needs_background": "light"
     },
     "output_type": "display_data"
    }
   ],
   "source": [
    "plt.figure(figsize=(9,6))\n",
    "plt.imshow(ham_wc)\n",
    "plt.title('Words are mostly use in Ham Messages', size=15)\n",
    "plt.show()"
   ]
  },
  {
   "cell_type": "code",
   "execution_count": 42,
   "metadata": {
    "execution": {
     "iopub.execute_input": "2022-03-27T04:29:00.751224Z",
     "iopub.status.busy": "2022-03-27T04:29:00.750774Z",
     "iopub.status.idle": "2022-03-27T04:29:00.76088Z",
     "shell.execute_reply": "2022-03-27T04:29:00.760167Z",
     "shell.execute_reply.started": "2022-03-27T04:29:00.751186Z"
    }
   },
   "outputs": [],
   "source": [
    "# now i see the top 30 words which make a message spam\n",
    "spam_corpus = []\n",
    "for msg in df[df['target'] == 1]['transformed_text'].tolist():\n",
    "    for word in msg.split():\n",
    "        spam_corpus.append(word)"
   ]
  },
  {
   "cell_type": "code",
   "execution_count": 43,
   "metadata": {
    "execution": {
     "iopub.execute_input": "2022-03-27T04:29:00.762295Z",
     "iopub.status.busy": "2022-03-27T04:29:00.762028Z",
     "iopub.status.idle": "2022-03-27T04:29:00.767547Z",
     "shell.execute_reply": "2022-03-27T04:29:00.766887Z",
     "shell.execute_reply.started": "2022-03-27T04:29:00.762258Z"
    }
   },
   "outputs": [
    {
     "data": {
      "text/plain": [
       "9939"
      ]
     },
     "execution_count": 43,
     "metadata": {},
     "output_type": "execute_result"
    }
   ],
   "source": [
    "len(spam_corpus)"
   ]
  },
  {
   "cell_type": "code",
   "execution_count": 44,
   "metadata": {
    "execution": {
     "iopub.execute_input": "2022-03-27T04:29:00.769142Z",
     "iopub.status.busy": "2022-03-27T04:29:00.768751Z",
     "iopub.status.idle": "2022-03-27T04:29:00.783113Z",
     "shell.execute_reply": "2022-03-27T04:29:00.782216Z",
     "shell.execute_reply.started": "2022-03-27T04:29:00.769108Z"
    }
   },
   "outputs": [
    {
     "data": {
      "text/html": [
       "<div>\n",
       "<style scoped>\n",
       "    .dataframe tbody tr th:only-of-type {\n",
       "        vertical-align: middle;\n",
       "    }\n",
       "\n",
       "    .dataframe tbody tr th {\n",
       "        vertical-align: top;\n",
       "    }\n",
       "\n",
       "    .dataframe thead th {\n",
       "        text-align: right;\n",
       "    }\n",
       "</style>\n",
       "<table border=\"1\" class=\"dataframe\">\n",
       "  <thead>\n",
       "    <tr style=\"text-align: right;\">\n",
       "      <th></th>\n",
       "      <th>0</th>\n",
       "      <th>1</th>\n",
       "    </tr>\n",
       "  </thead>\n",
       "  <tbody>\n",
       "    <tr>\n",
       "      <th>0</th>\n",
       "      <td>call</td>\n",
       "      <td>320</td>\n",
       "    </tr>\n",
       "    <tr>\n",
       "      <th>1</th>\n",
       "      <td>free</td>\n",
       "      <td>191</td>\n",
       "    </tr>\n",
       "    <tr>\n",
       "      <th>2</th>\n",
       "      <td>2</td>\n",
       "      <td>155</td>\n",
       "    </tr>\n",
       "    <tr>\n",
       "      <th>3</th>\n",
       "      <td>txt</td>\n",
       "      <td>141</td>\n",
       "    </tr>\n",
       "    <tr>\n",
       "      <th>4</th>\n",
       "      <td>text</td>\n",
       "      <td>122</td>\n",
       "    </tr>\n",
       "    <tr>\n",
       "      <th>5</th>\n",
       "      <td>u</td>\n",
       "      <td>119</td>\n",
       "    </tr>\n",
       "    <tr>\n",
       "      <th>6</th>\n",
       "      <td>ur</td>\n",
       "      <td>119</td>\n",
       "    </tr>\n",
       "    <tr>\n",
       "      <th>7</th>\n",
       "      <td>mobil</td>\n",
       "      <td>114</td>\n",
       "    </tr>\n",
       "    <tr>\n",
       "      <th>8</th>\n",
       "      <td>stop</td>\n",
       "      <td>104</td>\n",
       "    </tr>\n",
       "    <tr>\n",
       "      <th>9</th>\n",
       "      <td>repli</td>\n",
       "      <td>103</td>\n",
       "    </tr>\n",
       "  </tbody>\n",
       "</table>\n",
       "</div>"
      ],
      "text/plain": [
       "       0    1\n",
       "0   call  320\n",
       "1   free  191\n",
       "2      2  155\n",
       "3    txt  141\n",
       "4   text  122\n",
       "5      u  119\n",
       "6     ur  119\n",
       "7  mobil  114\n",
       "8   stop  104\n",
       "9  repli  103"
      ]
     },
     "execution_count": 44,
     "metadata": {},
     "output_type": "execute_result"
    }
   ],
   "source": [
    "from collections import Counter\n",
    "pd.DataFrame(Counter(spam_corpus).most_common(30)).head(10)\n",
    "# it tells us that a particular word exists with how much frequency in the text.i check the most 30 words that are used in the text to make the message spam"
   ]
  },
  {
   "cell_type": "code",
   "execution_count": 45,
   "metadata": {
    "execution": {
     "iopub.execute_input": "2022-03-27T04:29:00.784868Z",
     "iopub.status.busy": "2022-03-27T04:29:00.784595Z",
     "iopub.status.idle": "2022-03-27T04:29:01.14205Z",
     "shell.execute_reply": "2022-03-27T04:29:01.141305Z",
     "shell.execute_reply.started": "2022-03-27T04:29:00.784833Z"
    }
   },
   "outputs": [
    {
     "data": {
      "image/png": "[encoded data removed]",
      "text/plain": [
       "<Figure size 648x432 with 1 Axes>"
      ]
     },
     "metadata": {
      "needs_background": "light"
     },
     "output_type": "display_data"
    }
   ],
   "source": [
    "plt.figure(figsize=(9,6))\n",
    "sns.barplot(pd.DataFrame(Counter(spam_corpus).most_common(30))[0],\n",
    "            pd.DataFrame(Counter(spam_corpus).most_common(30))[1])\n",
    "plt.xticks(rotation=90, size=15)\n",
    "plt.title('Spam', size=15)\n",
    "plt.show()"
   ]
  },
  {
   "cell_type": "code",
   "execution_count": 46,
   "metadata": {
    "execution": {
     "iopub.execute_input": "2022-03-27T04:29:01.144148Z",
     "iopub.status.busy": "2022-03-27T04:29:01.14368Z",
     "iopub.status.idle": "2022-03-27T04:29:01.159224Z",
     "shell.execute_reply": "2022-03-27T04:29:01.158551Z",
     "shell.execute_reply.started": "2022-03-27T04:29:01.144106Z"
    }
   },
   "outputs": [],
   "source": [
    "# now i see the top 30 words which make a message Ham\n",
    "ham_corpus = []\n",
    "for msg in df[df['target'] == 0]['transformed_text'].tolist():\n",
    "    for word in msg.split():\n",
    "        ham_corpus.append(word)"
   ]
  },
  {
   "cell_type": "code",
   "execution_count": 47,
   "metadata": {
    "execution": {
     "iopub.execute_input": "2022-03-27T04:29:01.160828Z",
     "iopub.status.busy": "2022-03-27T04:29:01.160485Z",
     "iopub.status.idle": "2022-03-27T04:29:01.168038Z",
     "shell.execute_reply": "2022-03-27T04:29:01.167257Z",
     "shell.execute_reply.started": "2022-03-27T04:29:01.160787Z"
    }
   },
   "outputs": [
    {
     "data": {
      "text/plain": [
       "35402"
      ]
     },
     "execution_count": 47,
     "metadata": {},
     "output_type": "execute_result"
    }
   ],
   "source": [
    "len(ham_corpus)"
   ]
  },
  {
   "cell_type": "code",
   "execution_count": 48,
   "metadata": {
    "execution": {
     "iopub.execute_input": "2022-03-27T04:29:01.175406Z",
     "iopub.status.busy": "2022-03-27T04:29:01.174895Z",
     "iopub.status.idle": "2022-03-27T04:29:01.549483Z",
     "shell.execute_reply": "2022-03-27T04:29:01.548803Z",
     "shell.execute_reply.started": "2022-03-27T04:29:01.175377Z"
    }
   },
   "outputs": [
    {
     "data": {
      "image/png": "[encoded data removed]",
      "text/plain": [
       "<Figure size 648x432 with 1 Axes>"
      ]
     },
     "metadata": {
      "needs_background": "light"
     },
     "output_type": "display_data"
    }
   ],
   "source": [
    "plt.figure(figsize=(9,6))\n",
    "sns.barplot(pd.DataFrame(Counter(ham_corpus).most_common(30))[0],\n",
    "            pd.DataFrame(Counter(ham_corpus).most_common(30))[1])\n",
    "plt.xticks(rotation=90, size=15)\n",
    "plt.title('Ham',size=15)\n",
    "plt.show()"
   ]
  },
  {
   "cell_type": "markdown",
   "metadata": {},
   "source": [
    "## <u>4.Model building</u>"
   ]
  },
  {
   "cell_type": "code",
   "execution_count": 49,
   "metadata": {
    "execution": {
     "iopub.execute_input": "2022-03-27T04:29:01.551107Z",
     "iopub.status.busy": "2022-03-27T04:29:01.550848Z",
     "iopub.status.idle": "2022-03-27T04:29:01.555511Z",
     "shell.execute_reply": "2022-03-27T04:29:01.554699Z",
     "shell.execute_reply.started": "2022-03-27T04:29:01.551072Z"
    }
   },
   "outputs": [],
   "source": [
    "from sklearn.feature_extraction.text import CountVectorizer, TfidfVectorizer\n",
    "cv = CountVectorizer() # i will use the Bag of Word technique to converting the text into numbers\n",
    "tfidf = TfidfVectorizer(max_features=3000)"
   ]
  },
  {
   "cell_type": "code",
   "execution_count": 50,
   "metadata": {
    "execution": {
     "iopub.execute_input": "2022-03-27T04:29:01.557316Z",
     "iopub.status.busy": "2022-03-27T04:29:01.556998Z",
     "iopub.status.idle": "2022-03-27T04:29:01.695694Z",
     "shell.execute_reply": "2022-03-27T04:29:01.69491Z",
     "shell.execute_reply.started": "2022-03-27T04:29:01.557283Z"
    }
   },
   "outputs": [],
   "source": [
    "X = cv.fit_transform(df['transformed_text']).toarray()"
   ]
  },
  {
   "cell_type": "code",
   "execution_count": 51,
   "metadata": {
    "execution": {
     "iopub.execute_input": "2022-03-27T04:29:01.697337Z",
     "iopub.status.busy": "2022-03-27T04:29:01.696838Z",
     "iopub.status.idle": "2022-03-27T04:29:01.704488Z",
     "shell.execute_reply": "2022-03-27T04:29:01.703785Z",
     "shell.execute_reply.started": "2022-03-27T04:29:01.6973Z"
    }
   },
   "outputs": [
    {
     "name": "stdout",
     "output_type": "stream",
     "text": [
      "(5169, 6708)\n"
     ]
    },
    {
     "data": {
      "text/plain": [
       "array([[0, 0, 0, ..., 0, 0, 0],\n",
       "       [0, 0, 0, ..., 0, 0, 0],\n",
       "       [0, 0, 0, ..., 0, 0, 0],\n",
       "       ...,\n",
       "       [0, 0, 0, ..., 0, 0, 0],\n",
       "       [0, 0, 0, ..., 0, 0, 0],\n",
       "       [0, 0, 0, ..., 0, 0, 0]])"
      ]
     },
     "execution_count": 51,
     "metadata": {},
     "output_type": "execute_result"
    }
   ],
   "source": [
    "print(X.shape)\n",
    "X"
   ]
  },
  {
   "cell_type": "code",
   "execution_count": 52,
   "metadata": {
    "execution": {
     "iopub.execute_input": "2022-03-27T04:29:01.707261Z",
     "iopub.status.busy": "2022-03-27T04:29:01.705539Z",
     "iopub.status.idle": "2022-03-27T04:29:01.716405Z",
     "shell.execute_reply": "2022-03-27T04:29:01.715565Z",
     "shell.execute_reply.started": "2022-03-27T04:29:01.707223Z"
    }
   },
   "outputs": [
    {
     "data": {
      "text/plain": [
       "array([0, 0, 1, ..., 0, 0, 0])"
      ]
     },
     "execution_count": 52,
     "metadata": {},
     "output_type": "execute_result"
    }
   ],
   "source": [
    "y = df['target'].values\n",
    "y"
   ]
  },
  {
   "cell_type": "code",
   "execution_count": 53,
   "metadata": {
    "execution": {
     "iopub.execute_input": "2022-03-27T04:29:01.71789Z",
     "iopub.status.busy": "2022-03-27T04:29:01.717633Z",
     "iopub.status.idle": "2022-03-27T04:29:01.848221Z",
     "shell.execute_reply": "2022-03-27T04:29:01.847238Z",
     "shell.execute_reply.started": "2022-03-27T04:29:01.717853Z"
    }
   },
   "outputs": [],
   "source": [
    "# train test split the text\n",
    "from sklearn.model_selection import train_test_split\n",
    "X_train,X_test,y_train,y_test = train_test_split(X,y, test_size=0.2, random_state=2)"
   ]
  },
  {
   "cell_type": "code",
   "execution_count": 54,
   "metadata": {
    "execution": {
     "iopub.execute_input": "2022-03-27T04:29:01.849782Z",
     "iopub.status.busy": "2022-03-27T04:29:01.849517Z",
     "iopub.status.idle": "2022-03-27T04:29:01.943024Z",
     "shell.execute_reply": "2022-03-27T04:29:01.942065Z",
     "shell.execute_reply.started": "2022-03-27T04:29:01.849747Z"
    }
   },
   "outputs": [],
   "source": [
    "from sklearn.naive_bayes import GaussianNB, MultinomialNB,BernoulliNB\n",
    "from sklearn.ensemble import RandomForestClassifier\n",
    "from sklearn.metrics import accuracy_score, confusion_matrix, precision_score"
   ]
  },
  {
   "cell_type": "code",
   "execution_count": 55,
   "metadata": {
    "execution": {
     "iopub.execute_input": "2022-03-27T04:29:01.945592Z",
     "iopub.status.busy": "2022-03-27T04:29:01.945039Z",
     "iopub.status.idle": "2022-03-27T04:29:01.950656Z",
     "shell.execute_reply": "2022-03-27T04:29:01.949977Z",
     "shell.execute_reply.started": "2022-03-27T04:29:01.945552Z"
    }
   },
   "outputs": [],
   "source": [
    "gnb = GaussianNB()\n",
    "mnb = MultinomialNB()\n",
    "bnb = BernoulliNB()\n",
    "\n",
    "rf = RandomForestClassifier()"
   ]
  },
  {
   "cell_type": "code",
   "execution_count": 56,
   "metadata": {
    "execution": {
     "iopub.execute_input": "2022-03-27T04:29:01.952389Z",
     "iopub.status.busy": "2022-03-27T04:29:01.952064Z",
     "iopub.status.idle": "2022-03-27T04:29:02.498794Z",
     "shell.execute_reply": "2022-03-27T04:29:02.498065Z",
     "shell.execute_reply.started": "2022-03-27T04:29:01.95235Z"
    }
   },
   "outputs": [
    {
     "name": "stdout",
     "output_type": "stream",
     "text": [
      "0.8800773694390716\n",
      "\n",
      " [[792 104]\n",
      " [ 20 118]] \n",
      "\n",
      "0.5315315315315315\n"
     ]
    }
   ],
   "source": [
    "gnb.fit(X_train, y_train)\n",
    "y_pred1 = gnb.predict(X_test)\n",
    "print(accuracy_score(y_test, y_pred1))\n",
    "print('\\n',confusion_matrix(y_test, y_pred1),'\\n')\n",
    "print(precision_score(y_test, y_pred1))"
   ]
  },
  {
   "cell_type": "code",
   "execution_count": 57,
   "metadata": {
    "execution": {
     "iopub.execute_input": "2022-03-27T04:29:02.501609Z",
     "iopub.status.busy": "2022-03-27T04:29:02.501113Z",
     "iopub.status.idle": "2022-03-27T04:29:02.909913Z",
     "shell.execute_reply": "2022-03-27T04:29:02.908032Z",
     "shell.execute_reply.started": "2022-03-27T04:29:02.501569Z"
    }
   },
   "outputs": [
    {
     "name": "stdout",
     "output_type": "stream",
     "text": [
      "0.9642166344294004\n",
      "\n",
      " [[871  25]\n",
      " [ 12 126]] \n",
      "\n",
      "0.8344370860927153\n"
     ]
    }
   ],
   "source": [
    "mnb.fit(X_train, y_train)\n",
    "y_pred2 = mnb.predict(X_test)\n",
    "print(accuracy_score(y_test, y_pred2))\n",
    "print('\\n',confusion_matrix(y_test, y_pred2),'\\n')\n",
    "print(precision_score(y_test, y_pred2))"
   ]
  },
  {
   "cell_type": "code",
   "execution_count": 58,
   "metadata": {
    "execution": {
     "iopub.execute_input": "2022-03-27T04:29:02.915826Z",
     "iopub.status.busy": "2022-03-27T04:29:02.915156Z",
     "iopub.status.idle": "2022-03-27T04:29:03.622042Z",
     "shell.execute_reply": "2022-03-27T04:29:03.621225Z",
     "shell.execute_reply.started": "2022-03-27T04:29:02.91578Z"
    }
   },
   "outputs": [
    {
     "name": "stdout",
     "output_type": "stream",
     "text": [
      "0.9700193423597679\n",
      "\n",
      " [[893   3]\n",
      " [ 28 110]] \n",
      "\n",
      "0.9734513274336283\n"
     ]
    }
   ],
   "source": [
    "bnb.fit(X_train, y_train)\n",
    "y_pred3 = bnb.predict(X_test)\n",
    "print(accuracy_score(y_test, y_pred3))\n",
    "print('\\n',confusion_matrix(y_test, y_pred3),'\\n')\n",
    "print(precision_score(y_test, y_pred3))"
   ]
  },
  {
   "cell_type": "code",
   "execution_count": 59,
   "metadata": {
    "execution": {
     "iopub.execute_input": "2022-03-27T04:29:03.627244Z",
     "iopub.status.busy": "2022-03-27T04:29:03.626592Z",
     "iopub.status.idle": "2022-03-27T04:29:18.668825Z",
     "shell.execute_reply": "2022-03-27T04:29:18.668024Z",
     "shell.execute_reply.started": "2022-03-27T04:29:03.627198Z"
    }
   },
   "outputs": [
    {
     "name": "stdout",
     "output_type": "stream",
     "text": [
      "0.9729206963249516\n",
      "\n",
      " [[894   2]\n",
      " [ 26 112]] \n",
      "\n",
      "0.9824561403508771\n"
     ]
    }
   ],
   "source": [
    "rf.fit(X_train, y_train)\n",
    "y_pred4 = rf.predict(X_test)\n",
    "print(accuracy_score(y_test, y_pred4))\n",
    "print('\\n',confusion_matrix(y_test, y_pred4),'\\n')\n",
    "print(precision_score(y_test, y_pred4))"
   ]
  },
  {
   "cell_type": "code",
   "execution_count": 60,
   "metadata": {
    "execution": {
     "iopub.execute_input": "2022-03-27T04:29:18.670427Z",
     "iopub.status.busy": "2022-03-27T04:29:18.670114Z",
     "iopub.status.idle": "2022-03-27T04:29:18.674182Z",
     "shell.execute_reply": "2022-03-27T04:29:18.673297Z",
     "shell.execute_reply.started": "2022-03-27T04:29:18.67039Z"
    }
   },
   "outputs": [],
   "source": [
    "# Let's try to check multiple algorithms"
   ]
  },
  {
   "cell_type": "code",
   "execution_count": 61,
   "metadata": {
    "execution": {
     "iopub.execute_input": "2022-03-27T04:29:18.675964Z",
     "iopub.status.busy": "2022-03-27T04:29:18.675525Z",
     "iopub.status.idle": "2022-03-27T04:29:18.753236Z",
     "shell.execute_reply": "2022-03-27T04:29:18.752238Z",
     "shell.execute_reply.started": "2022-03-27T04:29:18.67593Z"
    }
   },
   "outputs": [],
   "source": [
    "# Trying different models\n",
    "from sklearn.linear_model import LogisticRegression\n",
    "from sklearn.svm import SVC\n",
    "from sklearn.naive_bayes import MultinomialNB\n",
    "from sklearn.tree import DecisionTreeClassifier\n",
    "from sklearn.neighbors import KNeighborsClassifier\n",
    "from sklearn.ensemble import RandomForestClassifier\n",
    "from sklearn.ensemble import AdaBoostClassifier\n",
    "from sklearn.ensemble import BaggingClassifier\n",
    "from sklearn.ensemble import ExtraTreesClassifier\n",
    "from sklearn.ensemble import GradientBoostingClassifier\n",
    "from xgboost import XGBClassifier"
   ]
  },
  {
   "cell_type": "code",
   "execution_count": 62,
   "metadata": {
    "execution": {
     "iopub.execute_input": "2022-03-27T04:29:18.758166Z",
     "iopub.status.busy": "2022-03-27T04:29:18.757867Z",
     "iopub.status.idle": "2022-03-27T04:29:18.765457Z",
     "shell.execute_reply": "2022-03-27T04:29:18.764752Z",
     "shell.execute_reply.started": "2022-03-27T04:29:18.758131Z"
    }
   },
   "outputs": [],
   "source": [
    "svc = SVC(kernel='sigmoid', gamma=1.0)\n",
    "knc = KNeighborsClassifier()\n",
    "mnb = MultinomialNB()\n",
    "dtc = DecisionTreeClassifier(max_depth=5)\n",
    "lrc = LogisticRegression(solver='liblinear', penalty='l1')\n",
    "rfc = RandomForestClassifier(n_estimators=50, random_state=2)\n",
    "abc = AdaBoostClassifier(n_estimators=50, random_state=2)\n",
    "bc = BaggingClassifier(n_estimators=50, random_state=2)\n",
    "etc = ExtraTreesClassifier(n_estimators=50, random_state=2)\n",
    "gbdt = GradientBoostingClassifier(n_estimators=50,random_state=2)\n",
    "xgb = XGBClassifier(n_estimators=50,random_state=2)"
   ]
  },
  {
   "cell_type": "code",
   "execution_count": 63,
   "metadata": {
    "execution": {
     "iopub.execute_input": "2022-03-27T04:29:18.767429Z",
     "iopub.status.busy": "2022-03-27T04:29:18.766703Z",
     "iopub.status.idle": "2022-03-27T04:29:18.776906Z",
     "shell.execute_reply": "2022-03-27T04:29:18.77621Z",
     "shell.execute_reply.started": "2022-03-27T04:29:18.76739Z"
    }
   },
   "outputs": [],
   "source": [
    "clfs = {\n",
    "    'SVC' : svc,\n",
    "    'KN' : knc, \n",
    "    'NB': mnb, \n",
    "    'DT': dtc, \n",
    "    'LR': lrc, \n",
    "    'RF': rfc, \n",
    "    'AdaBoost': abc, \n",
    "    'BgC': bc, \n",
    "    'ETC': etc,\n",
    "    'GBDT':gbdt,\n",
    "    'xgb':xgb\n",
    "}"
   ]
  },
  {
   "cell_type": "code",
   "execution_count": 64,
   "metadata": {
    "execution": {
     "iopub.execute_input": "2022-03-27T04:29:18.780048Z",
     "iopub.status.busy": "2022-03-27T04:29:18.779795Z",
     "iopub.status.idle": "2022-03-27T04:29:18.788207Z",
     "shell.execute_reply": "2022-03-27T04:29:18.787472Z",
     "shell.execute_reply.started": "2022-03-27T04:29:18.779974Z"
    }
   },
   "outputs": [],
   "source": [
    "def train_classifier(clf,X_train,y_train,X_test,y_test):\n",
    "    clf.fit(X_train,y_train)\n",
    "    y_pred = clf.predict(X_test)\n",
    "    accuracy = accuracy_score(y_test,y_pred)\n",
    "    precision = precision_score(y_test,y_pred)\n",
    "    \n",
    "    return accuracy,precision"
   ]
  },
  {
   "cell_type": "code",
   "execution_count": 65,
   "metadata": {
    "execution": {
     "iopub.execute_input": "2022-03-27T04:29:18.790048Z",
     "iopub.status.busy": "2022-03-27T04:29:18.789295Z",
     "iopub.status.idle": "2022-03-27T04:29:40.847378Z",
     "shell.execute_reply": "2022-03-27T04:29:40.846578Z",
     "shell.execute_reply.started": "2022-03-27T04:29:18.789992Z"
    }
   },
   "outputs": [
    {
     "data": {
      "text/plain": [
       "(0.9303675048355899, 0.7661290322580645)"
      ]
     },
     "execution_count": 65,
     "metadata": {},
     "output_type": "execute_result"
    }
   ],
   "source": [
    "train_classifier(svc,X_train,y_train,X_test,y_test)"
   ]
  },
  {
   "cell_type": "code",
   "execution_count": 66,
   "metadata": {
    "execution": {
     "iopub.execute_input": "2022-03-27T04:29:40.849157Z",
     "iopub.status.busy": "2022-03-27T04:29:40.848881Z",
     "iopub.status.idle": "2022-03-27T04:34:52.210267Z",
     "shell.execute_reply": "2022-03-27T04:34:52.209579Z",
     "shell.execute_reply.started": "2022-03-27T04:29:40.849121Z"
    }
   },
   "outputs": [
    {
     "name": "stdout",
     "output_type": "stream",
     "text": [
      "For  SVC\n",
      "Accuracy -  0.9303675048355899\n",
      "Precision -  0.7661290322580645\n",
      "For  KN\n",
      "Accuracy -  0.9061895551257253\n",
      "Precision -  1.0\n",
      "For  NB\n",
      "Accuracy -  0.9642166344294004\n",
      "Precision -  0.8344370860927153\n",
      "For  DT\n",
      "Accuracy -  0.9264990328820116\n",
      "Precision -  0.9428571428571428\n",
      "For  LR\n",
      "Accuracy -  0.9709864603481625\n",
      "Precision -  0.9736842105263158\n",
      "For  RF\n",
      "Accuracy -  0.971953578336557\n",
      "Precision -  1.0\n",
      "For  AdaBoost\n",
      "Accuracy -  0.9632495164410058\n",
      "Precision -  0.9464285714285714\n",
      "For  BgC\n",
      "Accuracy -  0.9622823984526112\n",
      "Precision -  0.9159663865546218\n",
      "For  ETC\n",
      "Accuracy -  0.97678916827853\n",
      "Precision -  0.9913793103448276\n",
      "For  GBDT\n",
      "Accuracy -  0.9439071566731141\n",
      "Precision -  0.9444444444444444\n",
      "[10:07:41] WARNING: ../src/learner.cc:1115: Starting in XGBoost 1.3.0, the default evaluation metric used with the objective 'binary:logistic' was changed from 'error' to 'logloss'. Explicitly set eval_metric if you'd like to restore the old behavior.\n",
      "For  xgb\n",
      "Accuracy -  0.9738878143133463\n",
      "Precision -  0.9663865546218487\n"
     ]
    }
   ],
   "source": [
    "accuracy_scores = []\n",
    "precision_scores = []\n",
    "\n",
    "for name,clf in clfs.items():\n",
    "    \n",
    "    current_accuracy,current_precision = train_classifier(clf, X_train,y_train,X_test,y_test)\n",
    "    \n",
    "    print(\"For \",name)\n",
    "    print(\"Accuracy - \",current_accuracy)\n",
    "    print(\"Precision - \",current_precision)\n",
    "    \n",
    "    accuracy_scores.append(current_accuracy)\n",
    "    precision_scores.append(current_precision)"
   ]
  },
  {
   "cell_type": "code",
   "execution_count": 67,
   "metadata": {
    "execution": {
     "iopub.execute_input": "2022-03-27T04:34:52.215282Z",
     "iopub.status.busy": "2022-03-27T04:34:52.213744Z",
     "iopub.status.idle": "2022-03-27T04:34:52.222352Z",
     "shell.execute_reply": "2022-03-27T04:34:52.221481Z",
     "shell.execute_reply.started": "2022-03-27T04:34:52.215244Z"
    }
   },
   "outputs": [],
   "source": [
    "performance_df = pd.DataFrame({'Algorithm':clfs.keys(),'Accuracy':accuracy_scores,'Precision':precision_scores}).sort_values('Precision',ascending=False)"
   ]
  },
  {
   "cell_type": "code",
   "execution_count": 68,
   "metadata": {
    "execution": {
     "iopub.execute_input": "2022-03-27T04:34:52.223726Z",
     "iopub.status.busy": "2022-03-27T04:34:52.223468Z",
     "iopub.status.idle": "2022-03-27T04:34:52.239105Z",
     "shell.execute_reply": "2022-03-27T04:34:52.238378Z",
     "shell.execute_reply.started": "2022-03-27T04:34:52.223683Z"
    }
   },
   "outputs": [
    {
     "data": {
      "text/html": [
       "<div>\n",
       "<style scoped>\n",
       "    .dataframe tbody tr th:only-of-type {\n",
       "        vertical-align: middle;\n",
       "    }\n",
       "\n",
       "    .dataframe tbody tr th {\n",
       "        vertical-align: top;\n",
       "    }\n",
       "\n",
       "    .dataframe thead th {\n",
       "        text-align: right;\n",
       "    }\n",
       "</style>\n",
       "<table border=\"1\" class=\"dataframe\">\n",
       "  <thead>\n",
       "    <tr style=\"text-align: right;\">\n",
       "      <th></th>\n",
       "      <th>Algorithm</th>\n",
       "      <th>Accuracy</th>\n",
       "      <th>Precision</th>\n",
       "    </tr>\n",
       "  </thead>\n",
       "  <tbody>\n",
       "    <tr>\n",
       "      <th>1</th>\n",
       "      <td>KN</td>\n",
       "      <td>0.906190</td>\n",
       "      <td>1.000000</td>\n",
       "    </tr>\n",
       "    <tr>\n",
       "      <th>5</th>\n",
       "      <td>RF</td>\n",
       "      <td>0.971954</td>\n",
       "      <td>1.000000</td>\n",
       "    </tr>\n",
       "    <tr>\n",
       "      <th>8</th>\n",
       "      <td>ETC</td>\n",
       "      <td>0.976789</td>\n",
       "      <td>0.991379</td>\n",
       "    </tr>\n",
       "    <tr>\n",
       "      <th>4</th>\n",
       "      <td>LR</td>\n",
       "      <td>0.970986</td>\n",
       "      <td>0.973684</td>\n",
       "    </tr>\n",
       "    <tr>\n",
       "      <th>10</th>\n",
       "      <td>xgb</td>\n",
       "      <td>0.973888</td>\n",
       "      <td>0.966387</td>\n",
       "    </tr>\n",
       "    <tr>\n",
       "      <th>6</th>\n",
       "      <td>AdaBoost</td>\n",
       "      <td>0.963250</td>\n",
       "      <td>0.946429</td>\n",
       "    </tr>\n",
       "    <tr>\n",
       "      <th>9</th>\n",
       "      <td>GBDT</td>\n",
       "      <td>0.943907</td>\n",
       "      <td>0.944444</td>\n",
       "    </tr>\n",
       "    <tr>\n",
       "      <th>3</th>\n",
       "      <td>DT</td>\n",
       "      <td>0.926499</td>\n",
       "      <td>0.942857</td>\n",
       "    </tr>\n",
       "    <tr>\n",
       "      <th>7</th>\n",
       "      <td>BgC</td>\n",
       "      <td>0.962282</td>\n",
       "      <td>0.915966</td>\n",
       "    </tr>\n",
       "    <tr>\n",
       "      <th>2</th>\n",
       "      <td>NB</td>\n",
       "      <td>0.964217</td>\n",
       "      <td>0.834437</td>\n",
       "    </tr>\n",
       "    <tr>\n",
       "      <th>0</th>\n",
       "      <td>SVC</td>\n",
       "      <td>0.930368</td>\n",
       "      <td>0.766129</td>\n",
       "    </tr>\n",
       "  </tbody>\n",
       "</table>\n",
       "</div>"
      ],
      "text/plain": [
       "   Algorithm  Accuracy  Precision\n",
       "1         KN  0.906190   1.000000\n",
       "5         RF  0.971954   1.000000\n",
       "8        ETC  0.976789   0.991379\n",
       "4         LR  0.970986   0.973684\n",
       "10       xgb  0.973888   0.966387\n",
       "6   AdaBoost  0.963250   0.946429\n",
       "9       GBDT  0.943907   0.944444\n",
       "3         DT  0.926499   0.942857\n",
       "7        BgC  0.962282   0.915966\n",
       "2         NB  0.964217   0.834437\n",
       "0        SVC  0.930368   0.766129"
      ]
     },
     "execution_count": 68,
     "metadata": {},
     "output_type": "execute_result"
    }
   ],
   "source": [
    "performance_df"
   ]
  },
  {
   "cell_type": "code",
   "execution_count": 69,
   "metadata": {
    "execution": {
     "iopub.execute_input": "2022-03-27T04:34:52.240534Z",
     "iopub.status.busy": "2022-03-27T04:34:52.240297Z",
     "iopub.status.idle": "2022-03-27T04:34:52.256695Z",
     "shell.execute_reply": "2022-03-27T04:34:52.255887Z",
     "shell.execute_reply.started": "2022-03-27T04:34:52.2405Z"
    }
   },
   "outputs": [
    {
     "data": {
      "text/html": [
       "<div>\n",
       "<style scoped>\n",
       "    .dataframe tbody tr th:only-of-type {\n",
       "        vertical-align: middle;\n",
       "    }\n",
       "\n",
       "    .dataframe tbody tr th {\n",
       "        vertical-align: top;\n",
       "    }\n",
       "\n",
       "    .dataframe thead th {\n",
       "        text-align: right;\n",
       "    }\n",
       "</style>\n",
       "<table border=\"1\" class=\"dataframe\">\n",
       "  <thead>\n",
       "    <tr style=\"text-align: right;\">\n",
       "      <th></th>\n",
       "      <th>Algorithm</th>\n",
       "      <th>variable</th>\n",
       "      <th>value</th>\n",
       "    </tr>\n",
       "  </thead>\n",
       "  <tbody>\n",
       "    <tr>\n",
       "      <th>0</th>\n",
       "      <td>KN</td>\n",
       "      <td>Accuracy</td>\n",
       "      <td>0.906190</td>\n",
       "    </tr>\n",
       "    <tr>\n",
       "      <th>1</th>\n",
       "      <td>RF</td>\n",
       "      <td>Accuracy</td>\n",
       "      <td>0.971954</td>\n",
       "    </tr>\n",
       "    <tr>\n",
       "      <th>2</th>\n",
       "      <td>ETC</td>\n",
       "      <td>Accuracy</td>\n",
       "      <td>0.976789</td>\n",
       "    </tr>\n",
       "    <tr>\n",
       "      <th>3</th>\n",
       "      <td>LR</td>\n",
       "      <td>Accuracy</td>\n",
       "      <td>0.970986</td>\n",
       "    </tr>\n",
       "    <tr>\n",
       "      <th>4</th>\n",
       "      <td>xgb</td>\n",
       "      <td>Accuracy</td>\n",
       "      <td>0.973888</td>\n",
       "    </tr>\n",
       "  </tbody>\n",
       "</table>\n",
       "</div>"
      ],
      "text/plain": [
       "  Algorithm  variable     value\n",
       "0        KN  Accuracy  0.906190\n",
       "1        RF  Accuracy  0.971954\n",
       "2       ETC  Accuracy  0.976789\n",
       "3        LR  Accuracy  0.970986\n",
       "4       xgb  Accuracy  0.973888"
      ]
     },
     "execution_count": 69,
     "metadata": {},
     "output_type": "execute_result"
    }
   ],
   "source": [
    "performance_df1 = pd.melt(performance_df, id_vars = \"Algorithm\")\n",
    "performance_df1.head()"
   ]
  },
  {
   "cell_type": "code",
   "execution_count": 70,
   "metadata": {
    "execution": {
     "iopub.execute_input": "2022-03-27T04:34:52.25851Z",
     "iopub.status.busy": "2022-03-27T04:34:52.258222Z",
     "iopub.status.idle": "2022-03-27T04:34:52.653286Z",
     "shell.execute_reply": "2022-03-27T04:34:52.652598Z",
     "shell.execute_reply.started": "2022-03-27T04:34:52.258474Z"
    }
   },
   "outputs": [
    {
     "data": {
      "image/png": "[encoded data removed]",
      "text/plain": [
       "<Figure size 441.75x360 with 1 Axes>"
      ]
     },
     "metadata": {
      "needs_background": "light"
     },
     "output_type": "display_data"
    }
   ],
   "source": [
    "sns.catplot(x = 'Algorithm', y='value', \n",
    "               hue = 'variable',data=performance_df1, kind='bar',height=5)\n",
    "plt.ylim(0.5,1.0)\n",
    "plt.xticks(rotation='vertical')\n",
    "plt.show()"
   ]
  },
  {
   "cell_type": "code",
   "execution_count": 71,
   "metadata": {
    "execution": {
     "iopub.execute_input": "2022-03-27T04:34:52.65497Z",
     "iopub.status.busy": "2022-03-27T04:34:52.654555Z",
     "iopub.status.idle": "2022-03-27T04:34:52.658589Z",
     "shell.execute_reply": "2022-03-27T04:34:52.657949Z",
     "shell.execute_reply.started": "2022-03-27T04:34:52.654931Z"
    }
   },
   "outputs": [],
   "source": [
    "# model improve"
   ]
  },
  {
   "cell_type": "code",
   "execution_count": 72,
   "metadata": {
    "execution": {
     "iopub.execute_input": "2022-03-27T04:34:52.660686Z",
     "iopub.status.busy": "2022-03-27T04:34:52.660106Z",
     "iopub.status.idle": "2022-03-27T04:34:52.668809Z",
     "shell.execute_reply": "2022-03-27T04:34:52.668029Z",
     "shell.execute_reply.started": "2022-03-27T04:34:52.660649Z"
    }
   },
   "outputs": [],
   "source": [
    "temp_df = pd.DataFrame({'Algorithm':clfs.keys(),'Accuracy_max_ft_3000':accuracy_scores,'Precision_max_ft_3000':precision_scores}).sort_values('Precision_max_ft_3000',ascending=False)"
   ]
  },
  {
   "cell_type": "code",
   "execution_count": 73,
   "metadata": {
    "execution": {
     "iopub.execute_input": "2022-03-27T04:34:52.670636Z",
     "iopub.status.busy": "2022-03-27T04:34:52.670284Z",
     "iopub.status.idle": "2022-03-27T04:34:52.6787Z",
     "shell.execute_reply": "2022-03-27T04:34:52.67799Z",
     "shell.execute_reply.started": "2022-03-27T04:34:52.670597Z"
    }
   },
   "outputs": [],
   "source": [
    "temp_df = pd.DataFrame({'Algorithm':clfs.keys(),'Accuracy_scaling':accuracy_scores,'Precision_scaling':precision_scores}).sort_values('Precision_scaling',ascending=False)"
   ]
  },
  {
   "cell_type": "code",
   "execution_count": 74,
   "metadata": {
    "execution": {
     "iopub.execute_input": "2022-03-27T04:34:52.681777Z",
     "iopub.status.busy": "2022-03-27T04:34:52.681453Z",
     "iopub.status.idle": "2022-03-27T04:34:52.692079Z",
     "shell.execute_reply": "2022-03-27T04:34:52.691392Z",
     "shell.execute_reply.started": "2022-03-27T04:34:52.681745Z"
    }
   },
   "outputs": [],
   "source": [
    "new_df = performance_df.merge(temp_df,on='Algorithm')"
   ]
  },
  {
   "cell_type": "code",
   "execution_count": 75,
   "metadata": {
    "execution": {
     "iopub.execute_input": "2022-03-27T04:34:52.693738Z",
     "iopub.status.busy": "2022-03-27T04:34:52.693366Z",
     "iopub.status.idle": "2022-03-27T04:34:52.702771Z",
     "shell.execute_reply": "2022-03-27T04:34:52.701928Z",
     "shell.execute_reply.started": "2022-03-27T04:34:52.693703Z"
    }
   },
   "outputs": [],
   "source": [
    "new_df_scaled = new_df.merge(temp_df,on='Algorithm')"
   ]
  },
  {
   "cell_type": "code",
   "execution_count": 76,
   "metadata": {
    "execution": {
     "iopub.execute_input": "2022-03-27T04:34:52.704603Z",
     "iopub.status.busy": "2022-03-27T04:34:52.70418Z",
     "iopub.status.idle": "2022-03-27T04:34:52.710602Z",
     "shell.execute_reply": "2022-03-27T04:34:52.709839Z",
     "shell.execute_reply.started": "2022-03-27T04:34:52.704567Z"
    }
   },
   "outputs": [],
   "source": [
    "temp_df = pd.DataFrame({'Algorithm':clfs.keys(),'Accuracy_num_chars':accuracy_scores,'Precision_num_chars':precision_scores}).sort_values('Precision_num_chars',ascending=False)"
   ]
  },
  {
   "cell_type": "code",
   "execution_count": 77,
   "metadata": {
    "execution": {
     "iopub.execute_input": "2022-03-27T04:34:52.712322Z",
     "iopub.status.busy": "2022-03-27T04:34:52.71197Z",
     "iopub.status.idle": "2022-03-27T04:34:52.732593Z",
     "shell.execute_reply": "2022-03-27T04:34:52.731999Z",
     "shell.execute_reply.started": "2022-03-27T04:34:52.712286Z"
    }
   },
   "outputs": [
    {
     "data": {
      "text/html": [
       "<div>\n",
       "<style scoped>\n",
       "    .dataframe tbody tr th:only-of-type {\n",
       "        vertical-align: middle;\n",
       "    }\n",
       "\n",
       "    .dataframe tbody tr th {\n",
       "        vertical-align: top;\n",
       "    }\n",
       "\n",
       "    .dataframe thead th {\n",
       "        text-align: right;\n",
       "    }\n",
       "</style>\n",
       "<table border=\"1\" class=\"dataframe\">\n",
       "  <thead>\n",
       "    <tr style=\"text-align: right;\">\n",
       "      <th></th>\n",
       "      <th>Algorithm</th>\n",
       "      <th>Accuracy</th>\n",
       "      <th>Precision</th>\n",
       "      <th>Accuracy_scaling_x</th>\n",
       "      <th>Precision_scaling_x</th>\n",
       "      <th>Accuracy_scaling_y</th>\n",
       "      <th>Precision_scaling_y</th>\n",
       "      <th>Accuracy_num_chars</th>\n",
       "      <th>Precision_num_chars</th>\n",
       "    </tr>\n",
       "  </thead>\n",
       "  <tbody>\n",
       "    <tr>\n",
       "      <th>0</th>\n",
       "      <td>KN</td>\n",
       "      <td>0.906190</td>\n",
       "      <td>1.000000</td>\n",
       "      <td>0.906190</td>\n",
       "      <td>1.000000</td>\n",
       "      <td>0.906190</td>\n",
       "      <td>1.000000</td>\n",
       "      <td>0.906190</td>\n",
       "      <td>1.000000</td>\n",
       "    </tr>\n",
       "    <tr>\n",
       "      <th>1</th>\n",
       "      <td>RF</td>\n",
       "      <td>0.971954</td>\n",
       "      <td>1.000000</td>\n",
       "      <td>0.971954</td>\n",
       "      <td>1.000000</td>\n",
       "      <td>0.971954</td>\n",
       "      <td>1.000000</td>\n",
       "      <td>0.971954</td>\n",
       "      <td>1.000000</td>\n",
       "    </tr>\n",
       "    <tr>\n",
       "      <th>2</th>\n",
       "      <td>ETC</td>\n",
       "      <td>0.976789</td>\n",
       "      <td>0.991379</td>\n",
       "      <td>0.976789</td>\n",
       "      <td>0.991379</td>\n",
       "      <td>0.976789</td>\n",
       "      <td>0.991379</td>\n",
       "      <td>0.976789</td>\n",
       "      <td>0.991379</td>\n",
       "    </tr>\n",
       "    <tr>\n",
       "      <th>3</th>\n",
       "      <td>LR</td>\n",
       "      <td>0.970986</td>\n",
       "      <td>0.973684</td>\n",
       "      <td>0.970986</td>\n",
       "      <td>0.973684</td>\n",
       "      <td>0.970986</td>\n",
       "      <td>0.973684</td>\n",
       "      <td>0.970986</td>\n",
       "      <td>0.973684</td>\n",
       "    </tr>\n",
       "    <tr>\n",
       "      <th>4</th>\n",
       "      <td>xgb</td>\n",
       "      <td>0.973888</td>\n",
       "      <td>0.966387</td>\n",
       "      <td>0.973888</td>\n",
       "      <td>0.966387</td>\n",
       "      <td>0.973888</td>\n",
       "      <td>0.966387</td>\n",
       "      <td>0.973888</td>\n",
       "      <td>0.966387</td>\n",
       "    </tr>\n",
       "    <tr>\n",
       "      <th>5</th>\n",
       "      <td>AdaBoost</td>\n",
       "      <td>0.963250</td>\n",
       "      <td>0.946429</td>\n",
       "      <td>0.963250</td>\n",
       "      <td>0.946429</td>\n",
       "      <td>0.963250</td>\n",
       "      <td>0.946429</td>\n",
       "      <td>0.963250</td>\n",
       "      <td>0.946429</td>\n",
       "    </tr>\n",
       "    <tr>\n",
       "      <th>6</th>\n",
       "      <td>GBDT</td>\n",
       "      <td>0.943907</td>\n",
       "      <td>0.944444</td>\n",
       "      <td>0.943907</td>\n",
       "      <td>0.944444</td>\n",
       "      <td>0.943907</td>\n",
       "      <td>0.944444</td>\n",
       "      <td>0.943907</td>\n",
       "      <td>0.944444</td>\n",
       "    </tr>\n",
       "    <tr>\n",
       "      <th>7</th>\n",
       "      <td>DT</td>\n",
       "      <td>0.926499</td>\n",
       "      <td>0.942857</td>\n",
       "      <td>0.926499</td>\n",
       "      <td>0.942857</td>\n",
       "      <td>0.926499</td>\n",
       "      <td>0.942857</td>\n",
       "      <td>0.926499</td>\n",
       "      <td>0.942857</td>\n",
       "    </tr>\n",
       "    <tr>\n",
       "      <th>8</th>\n",
       "      <td>BgC</td>\n",
       "      <td>0.962282</td>\n",
       "      <td>0.915966</td>\n",
       "      <td>0.962282</td>\n",
       "      <td>0.915966</td>\n",
       "      <td>0.962282</td>\n",
       "      <td>0.915966</td>\n",
       "      <td>0.962282</td>\n",
       "      <td>0.915966</td>\n",
       "    </tr>\n",
       "    <tr>\n",
       "      <th>9</th>\n",
       "      <td>NB</td>\n",
       "      <td>0.964217</td>\n",
       "      <td>0.834437</td>\n",
       "      <td>0.964217</td>\n",
       "      <td>0.834437</td>\n",
       "      <td>0.964217</td>\n",
       "      <td>0.834437</td>\n",
       "      <td>0.964217</td>\n",
       "      <td>0.834437</td>\n",
       "    </tr>\n",
       "    <tr>\n",
       "      <th>10</th>\n",
       "      <td>SVC</td>\n",
       "      <td>0.930368</td>\n",
       "      <td>0.766129</td>\n",
       "      <td>0.930368</td>\n",
       "      <td>0.766129</td>\n",
       "      <td>0.930368</td>\n",
       "      <td>0.766129</td>\n",
       "      <td>0.930368</td>\n",
       "      <td>0.766129</td>\n",
       "    </tr>\n",
       "  </tbody>\n",
       "</table>\n",
       "</div>"
      ],
      "text/plain": [
       "   Algorithm  Accuracy  Precision  Accuracy_scaling_x  Precision_scaling_x  \\\n",
       "0         KN  0.906190   1.000000            0.906190             1.000000   \n",
       "1         RF  0.971954   1.000000            0.971954             1.000000   \n",
       "2        ETC  0.976789   0.991379            0.976789             0.991379   \n",
       "3         LR  0.970986   0.973684            0.970986             0.973684   \n",
       "4        xgb  0.973888   0.966387            0.973888             0.966387   \n",
       "5   AdaBoost  0.963250   0.946429            0.963250             0.946429   \n",
       "6       GBDT  0.943907   0.944444            0.943907             0.944444   \n",
       "7         DT  0.926499   0.942857            0.926499             0.942857   \n",
       "8        BgC  0.962282   0.915966            0.962282             0.915966   \n",
       "9         NB  0.964217   0.834437            0.964217             0.834437   \n",
       "10       SVC  0.930368   0.766129            0.930368             0.766129   \n",
       "\n",
       "    Accuracy_scaling_y  Precision_scaling_y  Accuracy_num_chars  \\\n",
       "0             0.906190             1.000000            0.906190   \n",
       "1             0.971954             1.000000            0.971954   \n",
       "2             0.976789             0.991379            0.976789   \n",
       "3             0.970986             0.973684            0.970986   \n",
       "4             0.973888             0.966387            0.973888   \n",
       "5             0.963250             0.946429            0.963250   \n",
       "6             0.943907             0.944444            0.943907   \n",
       "7             0.926499             0.942857            0.926499   \n",
       "8             0.962282             0.915966            0.962282   \n",
       "9             0.964217             0.834437            0.964217   \n",
       "10            0.930368             0.766129            0.930368   \n",
       "\n",
       "    Precision_num_chars  \n",
       "0              1.000000  \n",
       "1              1.000000  \n",
       "2              0.991379  \n",
       "3              0.973684  \n",
       "4              0.966387  \n",
       "5              0.946429  \n",
       "6              0.944444  \n",
       "7              0.942857  \n",
       "8              0.915966  \n",
       "9              0.834437  \n",
       "10             0.766129  "
      ]
     },
     "execution_count": 77,
     "metadata": {},
     "output_type": "execute_result"
    }
   ],
   "source": [
    "new_df_scaled.merge(temp_df,on='Algorithm')"
   ]
  },
  {
   "cell_type": "code",
   "execution_count": 78,
   "metadata": {
    "execution": {
     "iopub.execute_input": "2022-03-27T04:34:52.733973Z",
     "iopub.status.busy": "2022-03-27T04:34:52.733677Z",
     "iopub.status.idle": "2022-03-27T04:34:52.738916Z",
     "shell.execute_reply": "2022-03-27T04:34:52.738221Z",
     "shell.execute_reply.started": "2022-03-27T04:34:52.733936Z"
    }
   },
   "outputs": [],
   "source": [
    "# Voting Classifier\n",
    "svc = SVC(kernel='sigmoid', gamma=1.0,probability=True)\n",
    "mnb = MultinomialNB()\n",
    "etc = ExtraTreesClassifier(n_estimators=50, random_state=2)\n",
    "\n",
    "from sklearn.ensemble import VotingClassifier"
   ]
  },
  {
   "cell_type": "code",
   "execution_count": 79,
   "metadata": {
    "execution": {
     "iopub.execute_input": "2022-03-27T04:34:52.740832Z",
     "iopub.status.busy": "2022-03-27T04:34:52.740352Z",
     "iopub.status.idle": "2022-03-27T04:34:52.746854Z",
     "shell.execute_reply": "2022-03-27T04:34:52.746045Z",
     "shell.execute_reply.started": "2022-03-27T04:34:52.740796Z"
    }
   },
   "outputs": [],
   "source": [
    "voting = VotingClassifier(estimators=[('svm', svc), ('nb', mnb), ('et', etc)],voting='soft')"
   ]
  },
  {
   "cell_type": "code",
   "execution_count": 80,
   "metadata": {
    "execution": {
     "iopub.execute_input": "2022-03-27T04:34:52.748517Z",
     "iopub.status.busy": "2022-03-27T04:34:52.748155Z",
     "iopub.status.idle": "2022-03-27T04:36:52.2065Z",
     "shell.execute_reply": "2022-03-27T04:36:52.205843Z",
     "shell.execute_reply.started": "2022-03-27T04:34:52.748481Z"
    }
   },
   "outputs": [
    {
     "data": {
      "text/plain": [
       "VotingClassifier(estimators=[('svm',\n",
       "                              SVC(gamma=1.0, kernel='sigmoid',\n",
       "                                  probability=True)),\n",
       "                             ('nb', MultinomialNB()),\n",
       "                             ('et',\n",
       "                              ExtraTreesClassifier(n_estimators=50,\n",
       "                                                   random_state=2))],\n",
       "                 voting='soft')"
      ]
     },
     "execution_count": 80,
     "metadata": {},
     "output_type": "execute_result"
    }
   ],
   "source": [
    "voting.fit(X_train,y_train)"
   ]
  },
  {
   "cell_type": "code",
   "execution_count": 81,
   "metadata": {
    "execution": {
     "iopub.execute_input": "2022-03-27T04:36:52.208195Z",
     "iopub.status.busy": "2022-03-27T04:36:52.20793Z",
     "iopub.status.idle": "2022-03-27T04:36:56.081424Z",
     "shell.execute_reply": "2022-03-27T04:36:56.080505Z",
     "shell.execute_reply.started": "2022-03-27T04:36:52.20816Z"
    }
   },
   "outputs": [
    {
     "name": "stdout",
     "output_type": "stream",
     "text": [
      "Accuracy 0.9816247582205029\n",
      "Precision 0.976\n"
     ]
    }
   ],
   "source": [
    "y_pred = voting.predict(X_test)\n",
    "print(\"Accuracy\",accuracy_score(y_test,y_pred))\n",
    "print(\"Precision\",precision_score(y_test,y_pred))"
   ]
  },
  {
   "cell_type": "code",
   "execution_count": 82,
   "metadata": {
    "execution": {
     "iopub.execute_input": "2022-03-27T04:36:56.083113Z",
     "iopub.status.busy": "2022-03-27T04:36:56.082858Z",
     "iopub.status.idle": "2022-03-27T04:36:56.091143Z",
     "shell.execute_reply": "2022-03-27T04:36:56.090136Z",
     "shell.execute_reply.started": "2022-03-27T04:36:56.083078Z"
    }
   },
   "outputs": [],
   "source": [
    "# Applying stacking\n",
    "estimators=[('svm', svc), ('nb', mnb), ('et', etc)]\n",
    "final_estimator=RandomForestClassifier()"
   ]
  },
  {
   "cell_type": "code",
   "execution_count": 83,
   "metadata": {
    "execution": {
     "iopub.execute_input": "2022-03-27T04:36:56.093355Z",
     "iopub.status.busy": "2022-03-27T04:36:56.093028Z",
     "iopub.status.idle": "2022-03-27T04:36:56.097826Z",
     "shell.execute_reply": "2022-03-27T04:36:56.096919Z",
     "shell.execute_reply.started": "2022-03-27T04:36:56.093264Z"
    }
   },
   "outputs": [],
   "source": [
    "from sklearn.ensemble import StackingClassifier"
   ]
  },
  {
   "cell_type": "code",
   "execution_count": 84,
   "metadata": {
    "execution": {
     "iopub.execute_input": "2022-03-27T04:36:56.099663Z",
     "iopub.status.busy": "2022-03-27T04:36:56.099246Z",
     "iopub.status.idle": "2022-03-27T04:36:56.10827Z",
     "shell.execute_reply": "2022-03-27T04:36:56.106522Z",
     "shell.execute_reply.started": "2022-03-27T04:36:56.099627Z"
    }
   },
   "outputs": [],
   "source": [
    "clf = StackingClassifier(estimators=estimators, final_estimator=final_estimator)"
   ]
  },
  {
   "cell_type": "code",
   "execution_count": 85,
   "metadata": {
    "execution": {
     "iopub.execute_input": "2022-03-27T04:36:56.109989Z",
     "iopub.status.busy": "2022-03-27T04:36:56.109747Z",
     "iopub.status.idle": "2022-03-27T04:45:58.04394Z",
     "shell.execute_reply": "2022-03-27T04:45:58.043228Z",
     "shell.execute_reply.started": "2022-03-27T04:36:56.109958Z"
    }
   },
   "outputs": [
    {
     "name": "stdout",
     "output_type": "stream",
     "text": [
      "Accuracy 0.9825918762088974\n",
      "Precision 0.9615384615384616\n"
     ]
    }
   ],
   "source": [
    "clf.fit(X_train,y_train)\n",
    "y_pred = clf.predict(X_test)\n",
    "print(\"Accuracy\",accuracy_score(y_test,y_pred))\n",
    "print(\"Precision\",precision_score(y_test,y_pred))"
   ]
  },
  {
   "cell_type": "code",
   "execution_count": 86,
   "metadata": {
    "execution": {
     "iopub.execute_input": "2022-03-27T04:45:58.045658Z",
     "iopub.status.busy": "2022-03-27T04:45:58.045247Z",
     "iopub.status.idle": "2022-03-27T04:45:58.049187Z",
     "shell.execute_reply": "2022-03-27T04:45:58.048486Z",
     "shell.execute_reply.started": "2022-03-27T04:45:58.045619Z"
    }
   },
   "outputs": [],
   "source": [
    "# so here i had tried many algorithms and techniques to improve the accuracy and precision but i decide to take\n",
    "# random forest as my model for training"
   ]
  },
  {
   "cell_type": "code",
   "execution_count": 87,
   "metadata": {
    "execution": {
     "iopub.execute_input": "2022-03-27T04:45:58.050948Z",
     "iopub.status.busy": "2022-03-27T04:45:58.050491Z",
     "iopub.status.idle": "2022-03-27T04:45:58.059229Z",
     "shell.execute_reply": "2022-03-27T04:45:58.058413Z",
     "shell.execute_reply.started": "2022-03-27T04:45:58.050911Z"
    }
   },
   "outputs": [],
   "source": [
    "rf2 = RandomForestClassifier(n_estimators=200)"
   ]
  },
  {
   "cell_type": "code",
   "execution_count": 88,
   "metadata": {
    "execution": {
     "iopub.execute_input": "2022-03-27T04:45:58.062202Z",
     "iopub.status.busy": "2022-03-27T04:45:58.061686Z",
     "iopub.status.idle": "2022-03-27T04:46:31.135774Z",
     "shell.execute_reply": "2022-03-27T04:46:31.134958Z",
     "shell.execute_reply.started": "2022-03-27T04:45:58.062155Z"
    }
   },
   "outputs": [
    {
     "name": "stdout",
     "output_type": "stream",
     "text": [
      "0.9729206963249516\n",
      "\n",
      " [[895   1]\n",
      " [ 27 111]] \n",
      "\n",
      "0.9910714285714286\n"
     ]
    }
   ],
   "source": [
    "rf2.fit(X_train, y_train)\n",
    "y_pred4 = rf2.predict(X_test)\n",
    "print(accuracy_score(y_test, y_pred4))\n",
    "print('\\n',confusion_matrix(y_test, y_pred4),'\\n')\n",
    "print(precision_score(y_test, y_pred4))"
   ]
  },
  {
   "cell_type": "markdown",
   "metadata": {},
   "source": [
    "I have got 97% accuracy with 100% Precision"
   ]
  },
  {
   "cell_type": "markdown",
   "metadata": {},
   "source": [
    "#### ***Please give a thumbs up to this notebook if you like it so that kaggle share this to other students as well Thanks!***"
   ]
  },
  {
   "cell_type": "code",
   "execution_count": null,
   "metadata": {},
   "outputs": [],
   "source": []
  }
 ],
 "metadata": {
  "kernelspec": {
   "display_name": "Python 3 (ipykernel)",
   "language": "python",
   "name": "python3"
  },
  "language_info": {
   "codemirror_mode": {
    "name": "ipython",
    "version": 3
   },
   "file_extension": ".py",
   "mimetype": "text/x-python",
   "name": "python",
   "nbconvert_exporter": "python",
   "pygments_lexer": "ipython3",
   "version": "3.9.7"
  }
 },
 "nbformat": 4,
 "nbformat_minor": 4
}
